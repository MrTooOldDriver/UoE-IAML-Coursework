{
 "cells": [
  {
   "cell_type": "markdown",
   "metadata": {},
   "source": [
    "# Introductory applied machine learning (INFR10069) "
   ]
  },
  {
   "cell_type": "markdown",
   "metadata": {},
   "source": [
    "# Lab 3: Support Vector Machine (SVM) Classification and Evaluation"
   ]
  },
  {
   "cell_type": "markdown",
   "metadata": {},
   "source": [
    "In this lab we initially re-examine the spam filtering problem from Lab 2. This time, we train a Logistic Regression model and a linear Support Vector Machine for the spam or non-spam classification task. In the second part of the lab we examine classification evaluation by using a K-nearest neighbour classifier.\n",
    "\n",
    "\n",
    "All the datasets that you will need for this lab are located within the `datasets` directory (adjacent to this file)."
   ]
  },
  {
   "cell_type": "code",
   "execution_count": 1,
   "metadata": {},
   "outputs": [],
   "source": [
    "# Import packages\n",
    "import os\n",
    "import numpy as np \n",
    "import pandas as pd\n",
    "import matplotlib.pyplot as plt\n",
    "import seaborn as sns\n",
    "from sklearn.model_selection import train_test_split\n",
    "from sklearn.linear_model import LogisticRegression\n",
    "from sklearn.svm import LinearSVC, SVC\n",
    "from sklearn.neighbors import KNeighborsClassifier\n",
    "from sklearn.metrics import confusion_matrix, log_loss\n",
    "from pandas.api.types import CategoricalDtype\n",
    "KNeighboursClassifier = KNeighborsClassifier # For the Brits!\n",
    "%matplotlib inline"
   ]
  },
  {
   "cell_type": "markdown",
   "metadata": {},
   "source": [
    "## 1. Spam filtering"
   ]
  },
  {
   "cell_type": "markdown",
   "metadata": {},
   "source": [
    "### ========== Question 1.1 ==========\n",
    "Load `spambase_binary.csv` into a pandas DataFrame structure called `spambase`. Display the number of instances and attributes and the first 5 samples. Remember that the attributes have been binarised. The instances have also been shuffled (i.e. their order has been randomised). "
   ]
  },
  {
   "cell_type": "code",
   "execution_count": 2,
   "metadata": {},
   "outputs": [
    {
     "name": "stdout",
     "output_type": "stream",
     "text": [
      "Number of instances: 4601, number of attributes: 55\n"
     ]
    },
    {
     "data": {
      "text/plain": "   word_freq_make_binarized  word_freq_address_binarized  \\\n0                         0                            1   \n1                         0                            0   \n2                         0                            0   \n3                         0                            0   \n4                         0                            0   \n\n   word_freq_all_binarized  word_freq_3d_binarized  word_freq_our_binarized  \\\n0                        0                       0                        1   \n1                        0                       0                        0   \n2                        1                       0                        0   \n3                        1                       0                        1   \n4                        0                       0                        1   \n\n   word_freq_over_binarized  word_freq_remove_binarized  \\\n0                         0                           1   \n1                         0                           0   \n2                         0                           0   \n3                         0                           0   \n4                         0                           0   \n\n   word_freq_internet_binarized  word_freq_order_binarized  \\\n0                             1                          0   \n1                             0                          0   \n2                             0                          1   \n3                             0                          0   \n4                             0                          0   \n\n   word_freq_mail_binarized  ...  word_freq_edu_binarized  \\\n0                         1  ...                        0   \n1                         0  ...                        1   \n2                         0  ...                        0   \n3                         0  ...                        0   \n4                         0  ...                        0   \n\n   word_freq_table_binarized  word_freq_conference_binarized  \\\n0                          0                               0   \n1                          0                               0   \n2                          0                               0   \n3                          0                               0   \n4                          0                               0   \n\n   char_freq_;_binarized  char_freq_(_binarized  char_freq_[_binarized  \\\n0                      0                      1                      1   \n1                      0                      0                      0   \n2                      0                      0                      0   \n3                      0                      0                      0   \n4                      0                      1                      0   \n\n   char_freq_!_binarized  char_freq_$_binarized  char_freq_#_binarized  \\\n0                      1                      1                      0   \n1                      1                      0                      0   \n2                      0                      0                      0   \n3                      1                      0                      0   \n4                      1                      1                      0   \n\n   is_spam  \n0        1  \n1        0  \n2        0  \n3        1  \n4        0  \n\n[5 rows x 55 columns]",
      "text/html": "<div>\n<style scoped>\n    .dataframe tbody tr th:only-of-type {\n        vertical-align: middle;\n    }\n\n    .dataframe tbody tr th {\n        vertical-align: top;\n    }\n\n    .dataframe thead th {\n        text-align: right;\n    }\n</style>\n<table border=\"1\" class=\"dataframe\">\n  <thead>\n    <tr style=\"text-align: right;\">\n      <th></th>\n      <th>word_freq_make_binarized</th>\n      <th>word_freq_address_binarized</th>\n      <th>word_freq_all_binarized</th>\n      <th>word_freq_3d_binarized</th>\n      <th>word_freq_our_binarized</th>\n      <th>word_freq_over_binarized</th>\n      <th>word_freq_remove_binarized</th>\n      <th>word_freq_internet_binarized</th>\n      <th>word_freq_order_binarized</th>\n      <th>word_freq_mail_binarized</th>\n      <th>...</th>\n      <th>word_freq_edu_binarized</th>\n      <th>word_freq_table_binarized</th>\n      <th>word_freq_conference_binarized</th>\n      <th>char_freq_;_binarized</th>\n      <th>char_freq_(_binarized</th>\n      <th>char_freq_[_binarized</th>\n      <th>char_freq_!_binarized</th>\n      <th>char_freq_$_binarized</th>\n      <th>char_freq_#_binarized</th>\n      <th>is_spam</th>\n    </tr>\n  </thead>\n  <tbody>\n    <tr>\n      <th>0</th>\n      <td>0</td>\n      <td>1</td>\n      <td>0</td>\n      <td>0</td>\n      <td>1</td>\n      <td>0</td>\n      <td>1</td>\n      <td>1</td>\n      <td>0</td>\n      <td>1</td>\n      <td>...</td>\n      <td>0</td>\n      <td>0</td>\n      <td>0</td>\n      <td>0</td>\n      <td>1</td>\n      <td>1</td>\n      <td>1</td>\n      <td>1</td>\n      <td>0</td>\n      <td>1</td>\n    </tr>\n    <tr>\n      <th>1</th>\n      <td>0</td>\n      <td>0</td>\n      <td>0</td>\n      <td>0</td>\n      <td>0</td>\n      <td>0</td>\n      <td>0</td>\n      <td>0</td>\n      <td>0</td>\n      <td>0</td>\n      <td>...</td>\n      <td>1</td>\n      <td>0</td>\n      <td>0</td>\n      <td>0</td>\n      <td>0</td>\n      <td>0</td>\n      <td>1</td>\n      <td>0</td>\n      <td>0</td>\n      <td>0</td>\n    </tr>\n    <tr>\n      <th>2</th>\n      <td>0</td>\n      <td>0</td>\n      <td>1</td>\n      <td>0</td>\n      <td>0</td>\n      <td>0</td>\n      <td>0</td>\n      <td>0</td>\n      <td>1</td>\n      <td>0</td>\n      <td>...</td>\n      <td>0</td>\n      <td>0</td>\n      <td>0</td>\n      <td>0</td>\n      <td>0</td>\n      <td>0</td>\n      <td>0</td>\n      <td>0</td>\n      <td>0</td>\n      <td>0</td>\n    </tr>\n    <tr>\n      <th>3</th>\n      <td>0</td>\n      <td>0</td>\n      <td>1</td>\n      <td>0</td>\n      <td>1</td>\n      <td>0</td>\n      <td>0</td>\n      <td>0</td>\n      <td>0</td>\n      <td>0</td>\n      <td>...</td>\n      <td>0</td>\n      <td>0</td>\n      <td>0</td>\n      <td>0</td>\n      <td>0</td>\n      <td>0</td>\n      <td>1</td>\n      <td>0</td>\n      <td>0</td>\n      <td>1</td>\n    </tr>\n    <tr>\n      <th>4</th>\n      <td>0</td>\n      <td>0</td>\n      <td>0</td>\n      <td>0</td>\n      <td>1</td>\n      <td>0</td>\n      <td>0</td>\n      <td>0</td>\n      <td>0</td>\n      <td>0</td>\n      <td>...</td>\n      <td>0</td>\n      <td>0</td>\n      <td>0</td>\n      <td>0</td>\n      <td>1</td>\n      <td>0</td>\n      <td>1</td>\n      <td>1</td>\n      <td>0</td>\n      <td>0</td>\n    </tr>\n  </tbody>\n</table>\n<p>5 rows × 55 columns</p>\n</div>"
     },
     "execution_count": 2,
     "metadata": {},
     "output_type": "execute_result"
    }
   ],
   "source": [
    "# Student needs to provide code similar to below\n",
    "data_path = os.path.join(os.getcwd(), 'datasets', 'spambase_binary.csv')\n",
    "spambase = pd.read_csv(data_path, delimiter = ',')\n",
    "print('Number of instances: {}, number of attributes: {}'.format(spambase.shape[0], spambase.shape[1]))\n",
    "spambase.head(5)\n"
   ]
  },
  {
   "cell_type": "markdown",
   "metadata": {},
   "source": [
    "### ========== Question 1.2 ==========\n",
    "We are going to use hold-out validation to evaluate our models below. Split the dataset into training and testing subsets using the `train_test_split` [function](http://scikit-learn.org/0.24/modules/generated/sklearn.cross_validation.train_test_split.html) we have used before. Call the resulting matrices `X_train`, `X_test`, `y_train`, `y_test`. Use 90% of the data for training and the remaining 10% for testing. Make sure you don't include the target variable `is_spam` in the input features (`X_train` / `X_test`)!\n",
    "\n",
    "If you want to be able to reproduce your results exactly, what argument must you remember to set?"
   ]
  },
  {
   "cell_type": "code",
   "execution_count": 3,
   "metadata": {},
   "outputs": [],
   "source": [
    "# Student needs to provide code similar to below\n",
    "X_train, X_test, y_train, y_test = train_test_split(spambase.drop(\"is_spam\", axis=1), spambase[\"is_spam\"],\n",
    "                                                    train_size=0.9, test_size=0.1, random_state=0)\n"
   ]
  },
  {
   "cell_type": "markdown",
   "metadata": {},
   "source": [
    "***Student needs to answer similar to below:***\n",
    "\n",
    "You must set the `random_state` argument, otherwise, every time you run the `train_test_split` function, you will get a different random split of the data. This will give you different results.\n"
   ]
  },
  {
   "cell_type": "markdown",
   "metadata": {},
   "source": [
    "### ========== Question 1.3 ==========\n",
    "Train a [`LogisticRegression`](http://scikit-learn.org/0.19/modules/generated/sklearn.linear_model.LogisticRegression.html) classifier by using training data. Use the `lbfgs` solver and default settings for the other parameters. Report the classification accuracy on both the training and test sets. Does your classifier generalise well on unseen data?"
   ]
  },
  {
   "cell_type": "code",
   "execution_count": 4,
   "metadata": {},
   "outputs": [
    {
     "name": "stdout",
     "output_type": "stream",
     "text": [
      "Classification accuracy on training set: 0.935\n",
      "Classification accuracy on test set: 0.928\n"
     ]
    }
   ],
   "source": [
    "# Student needs to provide code similar to below\n",
    "lr = LogisticRegression(solver='lbfgs')\n",
    "lr.fit(X_train, y_train)\n",
    "print('Classification accuracy on training set: {:.3f}'.format(lr.score(X_train, y_train)))\n",
    "print('Classification accuracy on test set: {:.3f}'.format(lr.score(X_test, y_test)))\n"
   ]
  },
  {
   "cell_type": "markdown",
   "metadata": {},
   "source": [
    "***Student needs to answer similar to below:***\n",
    "\n",
    "Indeed, the classifier generalises well since the classification accuracy on the test set is comparable to the training classification.\n",
    "\n"
   ]
  },
  {
   "cell_type": "markdown",
   "metadata": {},
   "source": [
    "### ========== Question 1.4 ==========\n",
    "Print the coefficients for class 1 for the attributes `word_freq_hp_binarized` and `char_freq_$_binarized`. Generally, we would expect the string `$` to appear in spam, and the string `hp` to appear in non-spam e-mails, as the data was collected from HP Labs. Do the regression coefficients make sense given that class 1 is spam? *Hint: Consider the sigmoid function and how it transforms values into a probability between 0 and 1. Since our attributes are boolean, a positive coefficient can only increase the total sum fed through the sigmoid and thus move the output of the sigmoid towards 1. What can happen if we have continuous, real-valued attributes?*"
   ]
  },
  {
   "cell_type": "code",
   "execution_count": 5,
   "metadata": {},
   "outputs": [
    {
     "name": "stdout",
     "output_type": "stream",
     "text": [
      "Coefficient for word_freq_hp_binarized: -2.639\n",
      "Coefficient for char_freq_$_binarized: 1.699\n"
     ]
    }
   ],
   "source": [
    "# Student needs to provide code similar to below\n",
    "hp_ind = spambase.columns.get_loc('word_freq_hp_binarized')\n",
    "dollar_ind = spambase.columns.get_loc('char_freq_$_binarized')\n",
    "print('Coefficient for word_freq_hp_binarized: {:.3f}'.format(lr.coef_[0, hp_ind]))\n",
    "print('Coefficient for char_freq_$_binarized: {:.3f}'.format(lr.coef_[0, dollar_ind]))\n"
   ]
  },
  {
   "cell_type": "markdown",
   "metadata": {},
   "source": [
    "***Student needs to answer similar to below:***\n",
    "\n",
    "The coefficients make sense, since the attribute `word_freq_hp_binarized` has a negative coefficient, meaning that it provides support for `non-spam` classification. On the other hand, `char_freq_$_binarized` has a positive coefficient, thus providing support for class 1 (i.e. `spam`).\n",
    "\n",
    "With continuous valued input, in particular if it can go negative, a positive coefficient may not necessarily mean that it will shift the output towards 1.\n",
    "\n"
   ]
  },
  {
   "cell_type": "markdown",
   "metadata": {},
   "source": [
    "### ========== Question 1.5 ==========\n",
    "Train a [`LinearSVC`](http://scikit-learn.org/0.19/modules/generated/sklearn.svm.LinearSVC.html#sklearn.svm.LinearSVC) (i.e. Linear Support Vector classifier) by using default parameters. Report the classification accuracy on the training and test sets. "
   ]
  },
  {
   "cell_type": "code",
   "execution_count": 6,
   "metadata": {},
   "outputs": [
    {
     "name": "stdout",
     "output_type": "stream",
     "text": [
      "Linear SVC classification accuracy on training set: 0.935\n",
      "Linear SVC classification accuracy on test set: 0.920\n"
     ]
    }
   ],
   "source": [
    "# Student needs to provide code similar to below\n",
    "svc_linear = LinearSVC()\n",
    "svc_linear.fit(X_train, y_train)\n",
    "print('Linear SVC classification accuracy on training set: {:.3f}'.format(svc_linear.score(X_train, y_train)))\n",
    "print('Linear SVC classification accuracy on test set: {:.3f}'.format(svc_linear.score(X_test, y_test)))\n"
   ]
  },
  {
   "cell_type": "markdown",
   "metadata": {},
   "source": [
    "### ========== Question 1.6 ==========\n",
    "What are the coefficients for the attributes `word_freq_hp_binarized` and `char_freq_`$`_binarized`? Compare these to the ones you found with Logistic Regression."
   ]
  },
  {
   "cell_type": "code",
   "execution_count": 7,
   "metadata": {},
   "outputs": [
    {
     "name": "stdout",
     "output_type": "stream",
     "text": [
      "Coefficient for word_freq_hp_binarized: -0.857\n",
      "Coefficient for char_freq_$_binarized: 0.569\n"
     ]
    }
   ],
   "source": [
    "# Student needs to provide code similar to below\n",
    "print('Coefficient for word_freq_hp_binarized: {:.3f}'.format(svc_linear.coef_[0, hp_ind]))\n",
    "print('Coefficient for char_freq_$_binarized: {:.3f}'.format(svc_linear.coef_[0, dollar_ind]))\n"
   ]
  },
  {
   "cell_type": "markdown",
   "metadata": {},
   "source": [
    "***Student needs to answer similar to below:***\n",
    "\n",
    "They are consistent: however, they are also less pronounced.\n",
    "\n"
   ]
  },
  {
   "cell_type": "markdown",
   "metadata": {},
   "source": [
    "### ========== Question 1.7 ==========\n",
    "How does a linear SVM relate to Logistic Regression? *Hint: Consider the classification boundary learnt in each model.*"
   ]
  },
  {
   "cell_type": "markdown",
   "metadata": {},
   "source": [
    "***Student needs to answer similar to below:***\n",
    "\n",
    "They both have linear classification boundaries with respect to the inputs. The classification mechanism is, however, fundamentally different. Logistic regression applies a linear transformation to the input and the result is transformed to a probability by using a non-linear function. Support vector machine classification is based on the similiarty of a new data point to a few training instances known as support vectors.\n",
    "\n"
   ]
  },
  {
   "cell_type": "markdown",
   "metadata": {},
   "source": [
    "### ========== Question 1.8 ==========\n",
    "By using the [`SVC`](http://scikit-learn.org/0.19/modules/generated/sklearn.svm.SVC.html#sklearn.svm.SVC) class train two new support vector classifiers with Gaussian (`rbf`) and polynomial (`poly`) kernels. Again, report classification accuracies on training and test sets and compare with your results from Question 1.5."
   ]
  },
  {
   "cell_type": "code",
   "execution_count": 8,
   "metadata": {},
   "outputs": [
    {
     "name": "stdout",
     "output_type": "stream",
     "text": [
      "RBF SVC classification accuracy on training set: 0.959\n",
      "RBF SVC classification accuracy on test set: 0.935\n",
      "Poly SVC classification accuracy on training set: 0.948\n",
      "Poly SVC classification accuracy on test set: 0.926\n"
     ]
    }
   ],
   "source": [
    "# Student needs to provide code similar to below\n",
    "svc_rbf = SVC(kernel='rbf')\n",
    "svc_rbf.fit(X_train, y_train)\n",
    "svc_poly = SVC(kernel='poly', degree=2)\n",
    "svc_poly.fit(X_train, y_train)\n",
    "print('RBF SVC classification accuracy on training set: {:.3f}'.format(svc_rbf.score(X_train, y_train)))\n",
    "print('RBF SVC classification accuracy on test set: {:.3f}'.format(svc_rbf.score(X_test, y_test)))\n",
    "print('Poly SVC classification accuracy on training set: {:.3f}'.format(svc_poly.score(X_train, y_train)))\n",
    "print('Poly SVC classification accuracy on test set: {:.3f}'.format(svc_poly.score(X_test, y_test)))\n"
   ]
  },
  {
   "cell_type": "markdown",
   "metadata": {},
   "source": [
    "***Student needs to answer similar to below:***\n",
    "\n",
    "It appears that there is a very slight benefit to using a radial basis kernel. However, before we can make any solid claims, we need to perform a cross-validation and try different parameters for these kernels. For an example, see [the sklearn doc examples](http://scikit-learn.org/0.24/auto_examples/svm/plot_rbf_parameters.html#sphx-glr-auto-examples-svm-plot-rbf-parameters-py)\n"
   ]
  },
  {
   "cell_type": "markdown",
   "metadata": {},
   "source": [
    "# 2. Performance assessment\n",
    "We will now look at a few ways of assessing the performance of a classifier. To do so we will introduce a new data set, the [Splice](https://archive.ics.uci.edu/ml/datasets/Molecular+Biology+%28Splice-junction+Gene+Sequences%29) data set. The classification task is to identify `intron` and `exon` boundaries on gene sequences. For more information, you can read the dataset description in the link. The class attribute can take on 3 values: `N`, `IE` and `EI`."
   ]
  },
  {
   "cell_type": "markdown",
   "metadata": {},
   "source": [
    "### ========== Question 2.1 ==========\n",
    "Load the `splice_train.csv` and `splice_test.csv` into two separate dataframes. Display the shape and first 10 instances for each dataframe."
   ]
  },
  {
   "cell_type": "code",
   "execution_count": 9,
   "metadata": {},
   "outputs": [
    {
     "name": "stdout",
     "output_type": "stream",
     "text": [
      "Number of instances: 2935, number of attributes: 61\n"
     ]
    },
    {
     "data": {
      "text/plain": "  pos0 pos1 pos2 pos3 pos4 pos5 pos6 pos7 pos8 pos9  ... pos51 pos52 pos53  \\\n0    T    G    A    T    G    C    C    T    G    C  ...     C     C     C   \n1    G    C    C    C    A    T    A    T    T    C  ...     T     G     G   \n2    G    G    C    T    G    C    C    G    G    A  ...     A     C     T   \n3    C    T    G    C    T    G    C    T    G    G  ...     G     G     C   \n4    T    C    C    C    C    G    A    G    C    C  ...     A     T     C   \n5    A    T    A    C    C    T    G    C    C    C  ...     A     T     G   \n6    T    T    C    T    C    C    A    T    T    T  ...     G     A     T   \n7    A    A    A    G    A    T    G    A    T    A  ...     A     A     G   \n8    C    C    A    A    T    C    C    C    A    G  ...     G     G     C   \n9    G    C    C    G    T    G    G    T    T    T  ...     A     A     G   \n\n  pos54 pos55 pos56 pos57 pos58 pos59 class  \n0     C     C     T     G     A     G     N  \n1     A     C     T     T     C     C     N  \n2     G     T     G     T     C     T    EI  \n3     T     G     C     T     G     G    EI  \n4     A     G     C     G     C     A     N  \n5     G     G     G     T     C     T    EI  \n6     A     T     C     C     A     T    IE  \n7     C     C     C     T     T     C    EI  \n8     G     G     C     C     T     G     N  \n9     G     C     T     C     C     T    EI  \n\n[10 rows x 61 columns]",
      "text/html": "<div>\n<style scoped>\n    .dataframe tbody tr th:only-of-type {\n        vertical-align: middle;\n    }\n\n    .dataframe tbody tr th {\n        vertical-align: top;\n    }\n\n    .dataframe thead th {\n        text-align: right;\n    }\n</style>\n<table border=\"1\" class=\"dataframe\">\n  <thead>\n    <tr style=\"text-align: right;\">\n      <th></th>\n      <th>pos0</th>\n      <th>pos1</th>\n      <th>pos2</th>\n      <th>pos3</th>\n      <th>pos4</th>\n      <th>pos5</th>\n      <th>pos6</th>\n      <th>pos7</th>\n      <th>pos8</th>\n      <th>pos9</th>\n      <th>...</th>\n      <th>pos51</th>\n      <th>pos52</th>\n      <th>pos53</th>\n      <th>pos54</th>\n      <th>pos55</th>\n      <th>pos56</th>\n      <th>pos57</th>\n      <th>pos58</th>\n      <th>pos59</th>\n      <th>class</th>\n    </tr>\n  </thead>\n  <tbody>\n    <tr>\n      <th>0</th>\n      <td>T</td>\n      <td>G</td>\n      <td>A</td>\n      <td>T</td>\n      <td>G</td>\n      <td>C</td>\n      <td>C</td>\n      <td>T</td>\n      <td>G</td>\n      <td>C</td>\n      <td>...</td>\n      <td>C</td>\n      <td>C</td>\n      <td>C</td>\n      <td>C</td>\n      <td>C</td>\n      <td>T</td>\n      <td>G</td>\n      <td>A</td>\n      <td>G</td>\n      <td>N</td>\n    </tr>\n    <tr>\n      <th>1</th>\n      <td>G</td>\n      <td>C</td>\n      <td>C</td>\n      <td>C</td>\n      <td>A</td>\n      <td>T</td>\n      <td>A</td>\n      <td>T</td>\n      <td>T</td>\n      <td>C</td>\n      <td>...</td>\n      <td>T</td>\n      <td>G</td>\n      <td>G</td>\n      <td>A</td>\n      <td>C</td>\n      <td>T</td>\n      <td>T</td>\n      <td>C</td>\n      <td>C</td>\n      <td>N</td>\n    </tr>\n    <tr>\n      <th>2</th>\n      <td>G</td>\n      <td>G</td>\n      <td>C</td>\n      <td>T</td>\n      <td>G</td>\n      <td>C</td>\n      <td>C</td>\n      <td>G</td>\n      <td>G</td>\n      <td>A</td>\n      <td>...</td>\n      <td>A</td>\n      <td>C</td>\n      <td>T</td>\n      <td>G</td>\n      <td>T</td>\n      <td>G</td>\n      <td>T</td>\n      <td>C</td>\n      <td>T</td>\n      <td>EI</td>\n    </tr>\n    <tr>\n      <th>3</th>\n      <td>C</td>\n      <td>T</td>\n      <td>G</td>\n      <td>C</td>\n      <td>T</td>\n      <td>G</td>\n      <td>C</td>\n      <td>T</td>\n      <td>G</td>\n      <td>G</td>\n      <td>...</td>\n      <td>G</td>\n      <td>G</td>\n      <td>C</td>\n      <td>T</td>\n      <td>G</td>\n      <td>C</td>\n      <td>T</td>\n      <td>G</td>\n      <td>G</td>\n      <td>EI</td>\n    </tr>\n    <tr>\n      <th>4</th>\n      <td>T</td>\n      <td>C</td>\n      <td>C</td>\n      <td>C</td>\n      <td>C</td>\n      <td>G</td>\n      <td>A</td>\n      <td>G</td>\n      <td>C</td>\n      <td>C</td>\n      <td>...</td>\n      <td>A</td>\n      <td>T</td>\n      <td>C</td>\n      <td>A</td>\n      <td>G</td>\n      <td>C</td>\n      <td>G</td>\n      <td>C</td>\n      <td>A</td>\n      <td>N</td>\n    </tr>\n    <tr>\n      <th>5</th>\n      <td>A</td>\n      <td>T</td>\n      <td>A</td>\n      <td>C</td>\n      <td>C</td>\n      <td>T</td>\n      <td>G</td>\n      <td>C</td>\n      <td>C</td>\n      <td>C</td>\n      <td>...</td>\n      <td>A</td>\n      <td>T</td>\n      <td>G</td>\n      <td>G</td>\n      <td>G</td>\n      <td>G</td>\n      <td>T</td>\n      <td>C</td>\n      <td>T</td>\n      <td>EI</td>\n    </tr>\n    <tr>\n      <th>6</th>\n      <td>T</td>\n      <td>T</td>\n      <td>C</td>\n      <td>T</td>\n      <td>C</td>\n      <td>C</td>\n      <td>A</td>\n      <td>T</td>\n      <td>T</td>\n      <td>T</td>\n      <td>...</td>\n      <td>G</td>\n      <td>A</td>\n      <td>T</td>\n      <td>A</td>\n      <td>T</td>\n      <td>C</td>\n      <td>C</td>\n      <td>A</td>\n      <td>T</td>\n      <td>IE</td>\n    </tr>\n    <tr>\n      <th>7</th>\n      <td>A</td>\n      <td>A</td>\n      <td>A</td>\n      <td>G</td>\n      <td>A</td>\n      <td>T</td>\n      <td>G</td>\n      <td>A</td>\n      <td>T</td>\n      <td>A</td>\n      <td>...</td>\n      <td>A</td>\n      <td>A</td>\n      <td>G</td>\n      <td>C</td>\n      <td>C</td>\n      <td>C</td>\n      <td>T</td>\n      <td>T</td>\n      <td>C</td>\n      <td>EI</td>\n    </tr>\n    <tr>\n      <th>8</th>\n      <td>C</td>\n      <td>C</td>\n      <td>A</td>\n      <td>A</td>\n      <td>T</td>\n      <td>C</td>\n      <td>C</td>\n      <td>C</td>\n      <td>A</td>\n      <td>G</td>\n      <td>...</td>\n      <td>G</td>\n      <td>G</td>\n      <td>C</td>\n      <td>G</td>\n      <td>G</td>\n      <td>C</td>\n      <td>C</td>\n      <td>T</td>\n      <td>G</td>\n      <td>N</td>\n    </tr>\n    <tr>\n      <th>9</th>\n      <td>G</td>\n      <td>C</td>\n      <td>C</td>\n      <td>G</td>\n      <td>T</td>\n      <td>G</td>\n      <td>G</td>\n      <td>T</td>\n      <td>T</td>\n      <td>T</td>\n      <td>...</td>\n      <td>A</td>\n      <td>A</td>\n      <td>G</td>\n      <td>G</td>\n      <td>C</td>\n      <td>T</td>\n      <td>C</td>\n      <td>C</td>\n      <td>T</td>\n      <td>EI</td>\n    </tr>\n  </tbody>\n</table>\n<p>10 rows × 61 columns</p>\n</div>"
     },
     "execution_count": 9,
     "metadata": {},
     "output_type": "execute_result"
    }
   ],
   "source": [
    "# Load Splice Train Here\n",
    "\n",
    "# Student needs to provide code similar to below\n",
    "data_path_train = os.path.join(os.getcwd(), 'datasets', 'splice_train.csv')\n",
    "splice_train = pd.read_csv(data_path_train, delimiter = ',')\n",
    "print('Number of instances: {}, number of attributes: {}'.format(splice_train.shape[0], splice_train.shape[1]))\n",
    "splice_train.head(10)\n"
   ]
  },
  {
   "cell_type": "code",
   "execution_count": 10,
   "metadata": {},
   "outputs": [
    {
     "name": "stdout",
     "output_type": "stream",
     "text": [
      "Number of instances: 255, number of attributes: 61\n"
     ]
    },
    {
     "data": {
      "text/plain": "  pos0 pos1 pos2 pos3 pos4 pos5 pos6 pos7 pos8 pos9  ... pos51 pos52 pos53  \\\n0    C    C    C    T    C    C    C    A    C    T  ...     C     C     C   \n1    C    A    C    T    G    A    G    T    T    G  ...     G     A     A   \n2    C    A    G    A    C    T    G    G    G    T  ...     A     G     A   \n3    A    G    T    G    A    T    T    G    A    C  ...     T     A     C   \n4    G    T    A    G    A    C    A    C    C    T  ...     A     T     C   \n5    C    T    T    G    T    T    A    C    A    G  ...     C     C     G   \n6    C    G    T    C    A    A    T    C    A    A  ...     A     A     A   \n7    G    T    C    C    G    T    G    C    C    T  ...     G     C     C   \n8    A    T    A    C    C    T    G    T    A    G  ...     C     G     T   \n9    G    G    T    G    G    G    C    C    A    A  ...     C     A     G   \n\n  pos54 pos55 pos56 pos57 pos58 pos59 class  \n0     A     G     T     G     C     A    IE  \n1     C     C     A     G     T     G     N  \n2     C     C     A     C     A     G    EI  \n3     C     A     A     A     G     A     N  \n4     C     C     T     T     C     T    IE  \n5     A     G     A     A     C     C     N  \n6     A     T     T     A     A     G    EI  \n7     C     T     T     T     G     C     N  \n8     T     T     A     T     A     T     N  \n9     G     C     A     T     G     G     N  \n\n[10 rows x 61 columns]",
      "text/html": "<div>\n<style scoped>\n    .dataframe tbody tr th:only-of-type {\n        vertical-align: middle;\n    }\n\n    .dataframe tbody tr th {\n        vertical-align: top;\n    }\n\n    .dataframe thead th {\n        text-align: right;\n    }\n</style>\n<table border=\"1\" class=\"dataframe\">\n  <thead>\n    <tr style=\"text-align: right;\">\n      <th></th>\n      <th>pos0</th>\n      <th>pos1</th>\n      <th>pos2</th>\n      <th>pos3</th>\n      <th>pos4</th>\n      <th>pos5</th>\n      <th>pos6</th>\n      <th>pos7</th>\n      <th>pos8</th>\n      <th>pos9</th>\n      <th>...</th>\n      <th>pos51</th>\n      <th>pos52</th>\n      <th>pos53</th>\n      <th>pos54</th>\n      <th>pos55</th>\n      <th>pos56</th>\n      <th>pos57</th>\n      <th>pos58</th>\n      <th>pos59</th>\n      <th>class</th>\n    </tr>\n  </thead>\n  <tbody>\n    <tr>\n      <th>0</th>\n      <td>C</td>\n      <td>C</td>\n      <td>C</td>\n      <td>T</td>\n      <td>C</td>\n      <td>C</td>\n      <td>C</td>\n      <td>A</td>\n      <td>C</td>\n      <td>T</td>\n      <td>...</td>\n      <td>C</td>\n      <td>C</td>\n      <td>C</td>\n      <td>A</td>\n      <td>G</td>\n      <td>T</td>\n      <td>G</td>\n      <td>C</td>\n      <td>A</td>\n      <td>IE</td>\n    </tr>\n    <tr>\n      <th>1</th>\n      <td>C</td>\n      <td>A</td>\n      <td>C</td>\n      <td>T</td>\n      <td>G</td>\n      <td>A</td>\n      <td>G</td>\n      <td>T</td>\n      <td>T</td>\n      <td>G</td>\n      <td>...</td>\n      <td>G</td>\n      <td>A</td>\n      <td>A</td>\n      <td>C</td>\n      <td>C</td>\n      <td>A</td>\n      <td>G</td>\n      <td>T</td>\n      <td>G</td>\n      <td>N</td>\n    </tr>\n    <tr>\n      <th>2</th>\n      <td>C</td>\n      <td>A</td>\n      <td>G</td>\n      <td>A</td>\n      <td>C</td>\n      <td>T</td>\n      <td>G</td>\n      <td>G</td>\n      <td>G</td>\n      <td>T</td>\n      <td>...</td>\n      <td>A</td>\n      <td>G</td>\n      <td>A</td>\n      <td>C</td>\n      <td>C</td>\n      <td>A</td>\n      <td>C</td>\n      <td>A</td>\n      <td>G</td>\n      <td>EI</td>\n    </tr>\n    <tr>\n      <th>3</th>\n      <td>A</td>\n      <td>G</td>\n      <td>T</td>\n      <td>G</td>\n      <td>A</td>\n      <td>T</td>\n      <td>T</td>\n      <td>G</td>\n      <td>A</td>\n      <td>C</td>\n      <td>...</td>\n      <td>T</td>\n      <td>A</td>\n      <td>C</td>\n      <td>C</td>\n      <td>A</td>\n      <td>A</td>\n      <td>A</td>\n      <td>G</td>\n      <td>A</td>\n      <td>N</td>\n    </tr>\n    <tr>\n      <th>4</th>\n      <td>G</td>\n      <td>T</td>\n      <td>A</td>\n      <td>G</td>\n      <td>A</td>\n      <td>C</td>\n      <td>A</td>\n      <td>C</td>\n      <td>C</td>\n      <td>T</td>\n      <td>...</td>\n      <td>A</td>\n      <td>T</td>\n      <td>C</td>\n      <td>C</td>\n      <td>C</td>\n      <td>T</td>\n      <td>T</td>\n      <td>C</td>\n      <td>T</td>\n      <td>IE</td>\n    </tr>\n    <tr>\n      <th>5</th>\n      <td>C</td>\n      <td>T</td>\n      <td>T</td>\n      <td>G</td>\n      <td>T</td>\n      <td>T</td>\n      <td>A</td>\n      <td>C</td>\n      <td>A</td>\n      <td>G</td>\n      <td>...</td>\n      <td>C</td>\n      <td>C</td>\n      <td>G</td>\n      <td>A</td>\n      <td>G</td>\n      <td>A</td>\n      <td>A</td>\n      <td>C</td>\n      <td>C</td>\n      <td>N</td>\n    </tr>\n    <tr>\n      <th>6</th>\n      <td>C</td>\n      <td>G</td>\n      <td>T</td>\n      <td>C</td>\n      <td>A</td>\n      <td>A</td>\n      <td>T</td>\n      <td>C</td>\n      <td>A</td>\n      <td>A</td>\n      <td>...</td>\n      <td>A</td>\n      <td>A</td>\n      <td>A</td>\n      <td>A</td>\n      <td>T</td>\n      <td>T</td>\n      <td>A</td>\n      <td>A</td>\n      <td>G</td>\n      <td>EI</td>\n    </tr>\n    <tr>\n      <th>7</th>\n      <td>G</td>\n      <td>T</td>\n      <td>C</td>\n      <td>C</td>\n      <td>G</td>\n      <td>T</td>\n      <td>G</td>\n      <td>C</td>\n      <td>C</td>\n      <td>T</td>\n      <td>...</td>\n      <td>G</td>\n      <td>C</td>\n      <td>C</td>\n      <td>C</td>\n      <td>T</td>\n      <td>T</td>\n      <td>T</td>\n      <td>G</td>\n      <td>C</td>\n      <td>N</td>\n    </tr>\n    <tr>\n      <th>8</th>\n      <td>A</td>\n      <td>T</td>\n      <td>A</td>\n      <td>C</td>\n      <td>C</td>\n      <td>T</td>\n      <td>G</td>\n      <td>T</td>\n      <td>A</td>\n      <td>G</td>\n      <td>...</td>\n      <td>C</td>\n      <td>G</td>\n      <td>T</td>\n      <td>T</td>\n      <td>T</td>\n      <td>A</td>\n      <td>T</td>\n      <td>A</td>\n      <td>T</td>\n      <td>N</td>\n    </tr>\n    <tr>\n      <th>9</th>\n      <td>G</td>\n      <td>G</td>\n      <td>T</td>\n      <td>G</td>\n      <td>G</td>\n      <td>G</td>\n      <td>C</td>\n      <td>C</td>\n      <td>A</td>\n      <td>A</td>\n      <td>...</td>\n      <td>C</td>\n      <td>A</td>\n      <td>G</td>\n      <td>G</td>\n      <td>C</td>\n      <td>A</td>\n      <td>T</td>\n      <td>G</td>\n      <td>G</td>\n      <td>N</td>\n    </tr>\n  </tbody>\n</table>\n<p>10 rows × 61 columns</p>\n</div>"
     },
     "execution_count": 10,
     "metadata": {},
     "output_type": "execute_result"
    }
   ],
   "source": [
    "# Load Splice Test Here\n",
    "\n",
    "# Student needs to provide code similar to below\n",
    "data_path_test = os.path.join(os.getcwd(), 'datasets', 'splice_test.csv')\n",
    "splice_test = pd.read_csv(data_path_test, delimiter = ',')\n",
    "print('Number of instances: {}, number of attributes: {}'.format(splice_test.shape[0], splice_test.shape[1]))\n",
    "splice_test.head(10)\n"
   ]
  },
  {
   "cell_type": "markdown",
   "metadata": {},
   "source": [
    "### ========== Question 2.2 ========== \n",
    "Convert the categorical attributes into numeric ones by using the [`get_dummies(...)`](https://pandas.pydata.org/pandas-docs/version/1.3.1/reference/api/pandas.get_dummies.html) function from pandas. Make sure to take care of the values `D`, `N`, `S`, `R` (see the [documentation](https://archive.ics.uci.edu/ml/datasets/Molecular+Biology+%28Splice-junction+Gene+Sequences%29) for the data). *Hint: checkout the pandas [`CategoricalDtype`](https://pandas.pydata.org/pandas-docs/version/1.3.1/reference/api/pandas.CategoricalDtype.html)*. Also, make sure to not transform the target variable (`class`)."
   ]
  },
  {
   "cell_type": "code",
   "execution_count": 11,
   "metadata": {},
   "outputs": [],
   "source": [
    "# Student needs to provide code similar to below\n",
    "ctype = CategoricalDtype(['A', 'G', 'T', 'C', 'D', 'N', 'R', 'S'])\n",
    "splice_train_1hot = pd.get_dummies(splice_train.drop('class', axis=1).astype(ctype))\n",
    "splice_test_1hot = pd.get_dummies(splice_test.drop('class', axis=1).astype(ctype))\n"
   ]
  },
  {
   "cell_type": "markdown",
   "metadata": {},
   "source": [
    "### ========== Question 2.3 ==========\n",
    "Store the training and testing data into numpy arrays `X_train`, `y_train`, `X_test` and `y_test`. Display the shapes of the four arrays."
   ]
  },
  {
   "cell_type": "code",
   "execution_count": 12,
   "metadata": {},
   "outputs": [
    {
     "name": "stdout",
     "output_type": "stream",
     "text": [
      "X_train shape: (2935, 480)\n",
      "y_train shape: (2935,)\n",
      "X_train shape: (255, 480)\n",
      "y_test shape: (255,)\n"
     ]
    }
   ],
   "source": [
    "# Student needs to provide code similar to below\n",
    "X_train = splice_train_1hot.values\n",
    "X_test = splice_test_1hot.values\n",
    "y_train = splice_train[\"class\"]\n",
    "y_test = splice_test[\"class\"]\n",
    "print('X_train shape: {}'.format(X_train.shape))\n",
    "print('y_train shape: {}'.format(y_train.shape))\n",
    "print('X_train shape: {}'.format(X_test.shape))\n",
    "print('y_test shape: {}'.format(y_test.shape))\n"
   ]
  },
  {
   "cell_type": "markdown",
   "metadata": {},
   "source": [
    "### ========== Question 2.4 ==========\n",
    "Familiarise yourself with [Nearest Neighbours Classification](http://scikit-learn.org/0.24/modules/neighbors.html#classification). Use a [`KNeighborsClassifier`](http://scikit-learn.org/0.24/modules/generated/sklearn.neighbors.KNeighborsClassifier.html#sklearn.neighbors.KNeighborsClassifier)\n",
    "by using a single neighbour. Report the classification accuracy on the training set."
   ]
  },
  {
   "cell_type": "code",
   "execution_count": 13,
   "metadata": {},
   "outputs": [
    {
     "name": "stdout",
     "output_type": "stream",
     "text": [
      "KNN classification (k=1) accuracy on training set: 1.000\n"
     ]
    }
   ],
   "source": [
    "# Student needs to provide code similar to below\n",
    "knn = KNeighborsClassifier(n_neighbors=1)\n",
    "knn.fit(X_train, y_train)\n",
    "print('KNN classification (k=1) accuracy on training set: {:.3f}'.format( knn.score(X_train, y_train)))\n"
   ]
  },
  {
   "cell_type": "markdown",
   "metadata": {},
   "source": [
    "### ========== Question 2.5 ==========\n",
    "Is the above result meaningful? Why is testing on the training data a particularly bad idea for a 1-nearest neighbour classifier? Do you expect the performance of the classifier on a test set to be as good?"
   ]
  },
  {
   "cell_type": "markdown",
   "metadata": {},
   "source": [
    "***Student needs to answer similar to below:***\n",
    "\n",
    "The above result is not meaningful. The 1-nearest neighbour classifier will classify each instace to the class of the nearest insance in the training set. If we test the classifier on the training set, then each input will be classified correctly since the closest instance in the training set is the instance itself. The performance on unseen data is expected to be much lower.\n",
    "\n"
   ]
  },
  {
   "cell_type": "markdown",
   "metadata": {},
   "source": [
    "### ========== Question 2.6 ==========\n",
    "Now report the classification accuracy on the test set and check your expectations."
   ]
  },
  {
   "cell_type": "code",
   "execution_count": 14,
   "metadata": {},
   "outputs": [
    {
     "name": "stdout",
     "output_type": "stream",
     "text": [
      "KNN classification (k=1) accuracy on test set: 0.745\n"
     ]
    }
   ],
   "source": [
    "# Student needs to provide code similar to below\n",
    "print('KNN classification (k=1) accuracy on test set: {:.3f}'.format(knn.score(X_test, y_test)))\n"
   ]
  },
  {
   "cell_type": "markdown",
   "metadata": {},
   "source": [
    "### ========== Question 2.7 ==========\n",
    "Plot a histogram of the target variable (i.e. `class`) in the test set. *Hint: matplotlib won't allow you to plot a histogram for categorical values. Instead, you can use Pandas' built-in bar plot tool in conjunction with the [`value_counts`](https://pandas.pydata.org/pandas-docs/version/1.3.1/reference/api/pandas.Series.value_counts.html).* "
   ]
  },
  {
   "cell_type": "code",
   "execution_count": 15,
   "metadata": {},
   "outputs": [
    {
     "data": {
      "text/plain": "<Figure size 432x288 with 1 Axes>",
      "image/png": "[encoded data removed]"
     },
     "metadata": {
      "needs_background": "light"
     },
     "output_type": "display_data"
    }
   ],
   "source": [
    "# Student needs to provide code similar to below\n",
    "class_counts = splice_test[\"class\"].value_counts()\n",
    "ax = class_counts.plot(kind=\"bar\")\n"
   ]
  },
  {
   "cell_type": "markdown",
   "metadata": {},
   "source": [
    "### ========== Question 2.8 ==========\n",
    "What would be the accuracy of the classifier, if all points were labelled as `N`? \n",
    "\n",
    "**Pro Tip** - You should always use a ['Dummy Model'](http://scikit-learn.org/0.24/modules/model_evaluation.html#dummy-estimators) (a ridiculously simple model) like this to compare with your 'real' models. It's very common for complex models to be outperformed by a simple model, such as predicting the most common class. When complex models are outperformed by 'Dummies', you should investigate why: often there was an issue with the code, the data, or the way the model works was misunderstood."
   ]
  },
  {
   "cell_type": "code",
   "execution_count": 16,
   "metadata": {},
   "outputs": [
    {
     "name": "stdout",
     "output_type": "stream",
     "text": [
      "The baseline classifier (predict always N) would achieve a classification accuracy score of: 0.584\n"
     ]
    }
   ],
   "source": [
    "# Student needs to provide code similar to below\n",
    "print('The baseline classifier (predict always N) would achieve a classification accuracy score of: {:.3f}'.\n",
    "      format(class_counts[\"N\"] / class_counts.values.sum()))\n"
   ]
  },
  {
   "cell_type": "markdown",
   "metadata": {},
   "source": [
    "### ========== Question 2.9 ==========\n",
    "Now we want to explore the effect of the `k` parameter. To do this, train the classifier multiple times, each time setting the KNN option to a different value. Try `5`, `10`, `50`, `100`, `200`, `500`, `1000`, `1500` and `2000` and test the classifier on the test set. How does the k parameter effect the results? *Hint: Consider how well the classifier is generalising to previously unseen data, and how it compares to the dumb prediction accuracy.*"
   ]
  },
  {
   "cell_type": "code",
   "execution_count": 17,
   "metadata": {},
   "outputs": [
    {
     "name": "stdout",
     "output_type": "stream",
     "text": [
      "Performance on test with 5 nearest neighbours: 0.776\n",
      "Performance on test with 10 nearest neighbours: 0.824\n",
      "Performance on test with 50 nearest neighbours: 0.871\n",
      "Performance on test with 100 nearest neighbours: 0.890\n",
      "Performance on test with 200 nearest neighbours: 0.910\n",
      "Performance on test with 500 nearest neighbours: 0.945\n",
      "Performance on test with 1000 nearest neighbours: 0.957\n",
      "Performance on test with 1500 nearest neighbours: 0.698\n",
      "Performance on test with 2000 nearest neighbours: 0.584\n"
     ]
    }
   ],
   "source": [
    "# Student needs to provide code similar to below\n",
    "k_list = [5, 10, 50, 100, 200, 500, 1000, 1500, 2000]\n",
    "ca = []\n",
    "for k in k_list:\n",
    "    knn = KNeighborsClassifier(n_neighbors=k).fit(X_train, y_train)\n",
    "    score = knn.score(X_test,y_test)\n",
    "    ca.append(score)\n",
    "    print('Performance on test with {} nearest neighbours: {:.3f}'.format(k, score))\n"
   ]
  },
  {
   "cell_type": "markdown",
   "metadata": {},
   "source": [
    "***Student needs to answer similar to below:***\n",
    "\n",
    "The model generalisation appears to improve as k increases...but only up to a point. We assume this because accuracy increases and model complexity is decreasing (why?). However, as k gets too large, we end up predicting the mean class for every data point (why?!) and performance drops considerably.\n",
    "\n"
   ]
  },
  {
   "cell_type": "markdown",
   "metadata": {},
   "source": [
    "### ========== Question 2.10 ==========\n",
    "Plot the results (k-value on the x-axis and classification accuracy on the y-axis), making sure to mark the axes. Can you conclude anything from observing the plot?"
   ]
  },
  {
   "cell_type": "code",
   "execution_count": 18,
   "metadata": {},
   "outputs": [
    {
     "data": {
      "text/plain": "<Figure size 432x288 with 1 Axes>",
      "image/png": "[encoded data removed]"
     },
     "metadata": {
      "needs_background": "light"
     },
     "output_type": "display_data"
    }
   ],
   "source": [
    "# Student needs to provide code similar to below\n",
    "plt.scatter(k_list, ca)\n",
    "plt.plot(k_list,ca, )\n",
    "plt.xlabel('k')\n",
    "plt.ylabel('Classification accuracy on test set')\n",
    "plt.title('K-nearest neighbours classification')\n",
    "plt.show()\n"
   ]
  },
  {
   "cell_type": "markdown",
   "metadata": {},
   "source": [
    "***Student needs to answer similar to below:***\n",
    "\n",
    "Increasing K improves performance up to a certain point. Beyond that point, the classifier uses virtually all training samples to classify a new instance and as a results classifies all instances to the dominant class (identically to our dumb baseline model).\n",
    "\n"
   ]
  },
  {
   "cell_type": "markdown",
   "metadata": {},
   "source": [
    "### ========== Question 2.11 ==========\n",
    "Select best value for `k` from Questions 2.9 and 2.10 and plot the normalised confusion matrix on the test set (you may use the provided function). Then plot the confusion matrix for a 5-nearest neighbour classifier. What do you observe?"
   ]
  },
  {
   "cell_type": "code",
   "execution_count": 19,
   "metadata": {},
   "outputs": [],
   "source": [
    "def plot_confusion_matrix(cm, classes=None, title='Confusion matrix'):\n",
    "    \"\"\"Plots a confusion matrix.\"\"\"\n",
    "    if classes is not None:\n",
    "        sns.heatmap(cm, xticklabels=classes, yticklabels=classes, vmin=0., vmax=1., annot=True)\n",
    "    else:\n",
    "        sns.heatmap(cm, vmin=0., vmax=1.)\n",
    "    plt.title(title)\n",
    "    plt.ylabel('True label')"
   ]
  },
  {
   "cell_type": "code",
   "execution_count": 20,
   "metadata": {},
   "outputs": [
    {
     "data": {
      "text/plain": "<Figure size 432x288 with 2 Axes>",
      "image/png": "[encoded data removed]"
     },
     "metadata": {
      "needs_background": "light"
     },
     "output_type": "display_data"
    },
    {
     "data": {
      "text/plain": "<Figure size 432x288 with 2 Axes>",
      "image/png": "[encoded data removed]"
     },
     "metadata": {
      "needs_background": "light"
     },
     "output_type": "display_data"
    }
   ],
   "source": [
    "# Student needs to provide code similar to below\n",
    "for i in [1000, 5]:\n",
    "    knn = KNeighborsClassifier(n_neighbors=i).fit(X_train, y_train)\n",
    "    pred = knn.predict(X_test)\n",
    "    cm = confusion_matrix(y_test, pred)\n",
    "    cm_norm = cm/cm.sum(axis=1)[:, np.newaxis]\n",
    "    plt.figure()\n",
    "    plot_confusion_matrix(cm_norm, classes=knn.classes_, title = str(i) + ' neighbours')\n"
   ]
  },
  {
   "cell_type": "markdown",
   "metadata": {},
   "source": [
    "***Student needs to answer similar to below:***\n",
    "\n",
    "With 1000 neighbours, the `N` class is almost always predicted correctly, but the other two classes are not. With fewer neightbors the `EI` class is predicted much better. The 5 neighbours solution is a more 'complex model' (why?) and the mean class accuracy seems to be worse. The choice of model will depend on your goals. If you don't care about predicting `IE` correctly, the `1000` neighbour model gives greater overall accuracy and is a simpler model - therefore one would prefer to err towards using it. However, your application may tolerate a drop in overall accuracy in return for better 'class accuracy' in a particular output - in this case, you may consider the more complex 5 neighbour model to get better `EI` accuracy.\n",
    "\n"
   ]
  },
  {
   "cell_type": "markdown",
   "metadata": {},
   "source": [
    "### ========== Question 2.12 ==========\n",
    "Read about the [logarithimic loss](http://scikit-learn.org/0.24/modules/generated/sklearn.metrics.log_loss.html) (or cross-entropy loss). It is often the error metric used when we are trying to optimise classification models.\n",
    "\n",
    "This metric takes as input the true labels and the estimated probability distributions (bernouli or multinomial). It makes sense to use this metric when we are interested not only in the predicted labels, but also in the confidence with which these labels are predicted.\n",
    "\n",
    "For instance, think of the situation where you have a single test point and two classifiers. Both classifiers predict the label correctly, however classifier A predicts that the test point belongs to the class with probability 0.55, whereas classifier B predicts the correct class with probability 0.99. Classification accuracy would be the same for the two classifiers (why?) but the `log_loss` metric would indicate that classifier B should be favoured.\n",
    "\n",
    "Produce a scatter plot similar to the one in Question 2.10 but this time show `log_loss` on your y axis. Which value for `k` would you pick if `log_loss` was the error metric? Comment on why this might happen, and which metric would be a better evaluator of performance."
   ]
  },
  {
   "cell_type": "code",
   "execution_count": 21,
   "metadata": {},
   "outputs": [
    {
     "name": "stdout",
     "output_type": "stream",
     "text": [
      "Performance on test with  5  nearest neighbours:  1.1011660814910997\n",
      "Performance on test with  10  nearest neighbours:  0.4877459608479797\n",
      "Performance on test with  50  nearest neighbours:  0.5269931151543924\n",
      "Performance on test with  100  nearest neighbours:  0.5561683926481399\n",
      "Performance on test with  200  nearest neighbours:  0.5965880938514355\n",
      "Performance on test with  500  nearest neighbours:  0.6697191221869561\n",
      "Performance on test with  1000  nearest neighbours:  0.753971586666587\n",
      "Performance on test with  1500  nearest neighbours:  0.8177287055931994\n",
      "Performance on test with  2000  nearest neighbours:  0.8753647883393483\n"
     ]
    },
    {
     "data": {
      "text/plain": "<Figure size 432x288 with 1 Axes>",
      "image/png": "[encoded data removed]"
     },
     "metadata": {
      "needs_background": "light"
     },
     "output_type": "display_data"
    },
    {
     "data": {
      "text/plain": "<Figure size 396x432 with 2 Axes>",
      "image/png": "[encoded data removed]"
     },
     "metadata": {
      "needs_background": "light"
     },
     "output_type": "display_data"
    }
   ],
   "source": [
    "# Student needs to provide code similar to below\n",
    "k_list = [5, 10, 50, 100, 200, 500, 1000, 1500, 2000]\n",
    "logloss = []\n",
    "for k in k_list:\n",
    "    knn = KNeighborsClassifier(n_neighbors=k).fit(X_train, y_train)\n",
    "    pred_proba = knn.predict_proba(X_test)\n",
    "    this_logloss = log_loss(y_test, pred_proba)\n",
    "    logloss.append(this_logloss)\n",
    "    print('Performance on test with ', k, ' nearest neighbours: ', this_logloss)\n",
    "plt.scatter(k_list, logloss)\n",
    "plt.xlabel('k')\n",
    "plt.ylabel('Logarithmic loss on test set')\n",
    "plt.title('K-nearest neighbours classification')\n",
    "\n",
    "# Extension - plot baselines too\n",
    "baselines = ['prior', 'most_frequent']\n",
    "fig, ax = plt.subplots(len(baselines), 1, figsize=(5.5,6))\n",
    "from sklearn.dummy import DummyClassifier\n",
    "bl_loss = {}\n",
    "for ii, baseline in enumerate(baselines):\n",
    "    plt.sca(ax[ii])\n",
    "    dummy_classifier = DummyClassifier(strategy=baseline).fit(X_train, y_train)\n",
    "    pred_proba = dummy_classifier.predict_proba(X_test)\n",
    "    this_logloss = log_loss(y_test, pred_proba)\n",
    "    plt.scatter(k_list, logloss)\n",
    "    plt.axhline(this_logloss, label='{} baseline'.format(baseline), linestyle='--')\n",
    "    plt.xlabel('k')\n",
    "    plt.ylabel('Logarithmic loss on test set')\n",
    "    plt.legend()\n",
    "\n",
    "plt.suptitle('K-nearest neighbours classification')\n",
    "plt.tight_layout()\n",
    "plt.subplots_adjust(top=.9)\n",
    "plt.show()\n"
   ]
  },
  {
   "cell_type": "markdown",
   "metadata": {},
   "source": [
    "***Student needs to answer similar to below:***\n",
    "\n",
    "We would pick the 10-neighbours classifier as it has the lowest generalisation log loss. \n",
    "\n",
    "This is significantly different from the accuracy metric. One way to explain this is as follows. The 10-NN model, while it gets more instances wrong (lower accuracy), has a better judgement of its confidence in the prediction, whereas the 1000-NN model gets more instances right (higher accuracy), but its judgement is way off (for example, in instances where it gets it wrong, it may predict the wrong label with high confidence, impacting the log loss).\n",
    "\n",
    "However, the point where the knn model = dumb baseline is note indicated as clearly on this log loss graph. There are a couple of different dummy classifier baselines we could use for log loss:\n",
    "\n",
    "1. Predict the dominant class with probability of 1 (sklearn.dummy.DummyClassifier(strategy='most_frequent').fit(X_train, y_train))\n",
    "2. Predict probabilites respecting the class distribution from the training dataset (i.e. use prior probabilities) (sklearn.dummy.DummyClassifier(strategy='prior').fit(X_train, y_train))\n",
    "\n",
    "I plotted these baselines on a second set of graphs with dotted lines. As you can see - predicting with 100% confidence comes at a very high cost (in terms of logarithmic loss)!\n",
    "\n"
   ]
  },
  {
   "cell_type": "markdown",
   "metadata": {},
   "source": [
    "### ========== Question 2.13 ==========\n",
    "\n",
    "Could you use the `log_loss` metric to evaluate the performance of an SVM classifier? Explain."
   ]
  },
  {
   "cell_type": "markdown",
   "metadata": {},
   "source": [
    "***Student needs to answer similar to below:***\n",
    "\n",
    "You can, but you probably shouldn't! SVMs are not probabilistic classifiers (i.e. they only yield a classification decision and not a posterior probability distribution) - they are trained to minimise a distance metric. Other classifiers, such as logistic regression, **explicitly try to minimise the logarithmic loss**. It would make sense that these models would report a better log loss than an SVM, but the SVM could still be producing 'better' predictions e.g. rankings.\n",
    "\n",
    "Nevertheless `sklearn` does provide a `predict_proba()` method which returns probability estimates on predictions by using cross-validation. You can also calibrate the predicted probabilities such that they perform better by the log_loss metric. See [here](http://scikit-learn.org/0.19/modules/calibration.html) for more information.\n",
    "\n"
   ]
  }
 ],
 "metadata": {
  "anaconda-cloud": {},
  "kernelspec": {
   "name": "pycharm-45500138",
   "language": "python",
   "display_name": "PyCharm (UoE-IAML-Coursework)"
  },
  "language_info": {
   "codemirror_mode": {
    "name": "ipython",
    "version": 3
   },
   "file_extension": ".py",
   "mimetype": "text/x-python",
   "name": "python",
   "nbconvert_exporter": "python",
   "pygments_lexer": "ipython3",
   "version": "3.9.2"
  }
 },
 "nbformat": 4,
 "nbformat_minor": 1
}