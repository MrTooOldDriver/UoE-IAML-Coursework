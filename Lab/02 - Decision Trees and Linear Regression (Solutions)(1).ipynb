{
 "cells": [
  {
   "cell_type": "markdown",
   "metadata": {},
   "source": [
    "# Introductory applied machine learning (INFR10069) "
   ]
  },
  {
   "cell_type": "markdown",
   "metadata": {},
   "source": [
    "# Lab 2: Decision trees and linear regression"
   ]
  },
  {
   "cell_type": "markdown",
   "metadata": {},
   "source": [
    "In the first part of this lab we perform Decision trees classification on the [German credit](http://archive.ics.uci.edu/ml/datasets/Statlog+%28German+Credit+Data%29) data set. In the second part we learn how to train simple linear regression model by using the [CPU performance](https://archive.ics.uci.edu/ml/datasets/Computer+Hardware) data set. Both datasets (`credit.csv` and `cpu.csv`) are located within the `datasets` directory (adjacent to this file)."
   ]
  },
  {
   "cell_type": "markdown",
   "metadata": {},
   "source": [
    "As always, first activate the python environment if not already done so (remember to exclude 'source' if you're on windows):"
   ]
  },
  {
   "cell_type": "markdown",
   "metadata": {},
   "source": [
    "```{bash}\n",
    "source activate py3iaml\n",
    "```"
   ]
  },
  {
   "cell_type": "markdown",
   "metadata": {},
   "source": [
    "Now let's import the packages (*This will generate some warnings related to the libraries: ignore*):"
   ]
  },
  {
   "cell_type": "code",
   "execution_count": 1,
   "metadata": {},
   "outputs": [],
   "source": [
    "# Import packages\n",
    "import os\n",
    "import numpy as np \n",
    "import pandas as pd\n",
    "import matplotlib.pyplot as plt\n",
    "import seaborn as sns\n",
    "import graphviz\n",
    "from sklearn.model_selection import train_test_split\n",
    "from sklearn.linear_model import LinearRegression\n",
    "from sklearn.tree import DecisionTreeClassifier, export_graphviz\n",
    "from sklearn.ensemble import RandomForestClassifier\n",
    "from sklearn.metrics import accuracy_score, confusion_matrix, r2_score\n",
    "%matplotlib inline"
   ]
  },
  {
   "cell_type": "markdown",
   "metadata": {},
   "source": [
    "## 1. Decision Trees\n",
    "One of the great advantages of decision trees is their interpretability. The rules learnt for classification are easy for a person to follow, unlike the opaque \"black box\" of many other methods, such as neural networks. We demonstrate the utility of this using a German credit data set. You can read a description of this dataset at the [UCI site](http://archive.ics.uci.edu/ml/datasets/Statlog+%28German+Credit+Data%29). The task is to predict whether a loan approval is good or bad credit risk based on 20 attributes. We've simplified the data set somewhat, particularly making attribute names and values more meaningful."
   ]
  },
  {
   "cell_type": "markdown",
   "metadata": {
    "collapsed": true
   },
   "source": [
    "We will load the credit dataset into a pandas DataFrame structure. "
   ]
  },
  {
   "cell_type": "code",
   "execution_count": 2,
   "metadata": {},
   "outputs": [],
   "source": [
    "# Load the dataset\n",
    "data_path = os.path.join(os.getcwd(), 'datasets', 'credit.csv')\n",
    "credit = pd.read_csv(data_path, delimiter = ',')"
   ]
  },
  {
   "cell_type": "markdown",
   "metadata": {},
   "source": [
    "### ========== Question 1.1 ==========\n",
    "Display the number of data points and attributes in the dataset. "
   ]
  },
  {
   "cell_type": "code",
   "execution_count": 3,
   "metadata": {},
   "outputs": [
    {
     "name": "stdout",
     "output_type": "stream",
     "text": [
      "Number of samples: 1001, number of attributes: 21\n"
     ]
    }
   ],
   "source": [
    "# Student needs to provide code similar to below\n",
    "print('Number of samples: {}, number of attributes: {}'.format(credit.shape[0], credit.shape[1]))\n"
   ]
  },
  {
   "cell_type": "markdown",
   "metadata": {},
   "source": [
    "### ========== Question 1.2 ==========\n",
    "Get a feeling of the data by using pandas `describe()` method. Be careful - there is a mixture of numeric and categorical data and hence will need to output it in two stages:"
   ]
  },
  {
   "cell_type": "code",
   "execution_count": 4,
   "metadata": {},
   "outputs": [
    {
     "data": {
      "text/plain": "          Duration  CreditAmount  InstallmentRate  ResidentSince          Age  \\\ncount  1001.000000  1.001000e+03      1001.000000    1001.000000  1001.000000   \nmean     20.882118 -9.957330e+05        -7.019980       2.842158    35.217782   \nstd      12.070878  3.160708e+07       316.165715       1.106825    15.398264   \nmin       0.000000 -1.000000e+09    -10000.000000       0.000000  -293.000000   \n25%      12.000000  1.364000e+03         2.000000       2.000000    27.000000   \n50%      18.000000  2.319000e+03         3.000000       3.000000    33.000000   \n75%      24.000000  3.972000e+03         4.000000       4.000000    42.000000   \nmax      72.000000  1.842400e+04         4.000000       4.000000    75.000000   \n\n       NumCreditsAtBank   Dependents  \ncount       1001.000000  1001.000000  \nmean           0.406593     0.969031  \nstd           31.656714     5.894916  \nmin        -1000.000000  -185.000000  \n25%            1.000000     1.000000  \n50%            1.000000     1.000000  \n75%            2.000000     1.000000  \nmax            4.000000     2.000000  ",
      "text/html": "<div>\n<style scoped>\n    .dataframe tbody tr th:only-of-type {\n        vertical-align: middle;\n    }\n\n    .dataframe tbody tr th {\n        vertical-align: top;\n    }\n\n    .dataframe thead th {\n        text-align: right;\n    }\n</style>\n<table border=\"1\" class=\"dataframe\">\n  <thead>\n    <tr style=\"text-align: right;\">\n      <th></th>\n      <th>Duration</th>\n      <th>CreditAmount</th>\n      <th>InstallmentRate</th>\n      <th>ResidentSince</th>\n      <th>Age</th>\n      <th>NumCreditsAtBank</th>\n      <th>Dependents</th>\n    </tr>\n  </thead>\n  <tbody>\n    <tr>\n      <th>count</th>\n      <td>1001.000000</td>\n      <td>1.001000e+03</td>\n      <td>1001.000000</td>\n      <td>1001.000000</td>\n      <td>1001.000000</td>\n      <td>1001.000000</td>\n      <td>1001.000000</td>\n    </tr>\n    <tr>\n      <th>mean</th>\n      <td>20.882118</td>\n      <td>-9.957330e+05</td>\n      <td>-7.019980</td>\n      <td>2.842158</td>\n      <td>35.217782</td>\n      <td>0.406593</td>\n      <td>0.969031</td>\n    </tr>\n    <tr>\n      <th>std</th>\n      <td>12.070878</td>\n      <td>3.160708e+07</td>\n      <td>316.165715</td>\n      <td>1.106825</td>\n      <td>15.398264</td>\n      <td>31.656714</td>\n      <td>5.894916</td>\n    </tr>\n    <tr>\n      <th>min</th>\n      <td>0.000000</td>\n      <td>-1.000000e+09</td>\n      <td>-10000.000000</td>\n      <td>0.000000</td>\n      <td>-293.000000</td>\n      <td>-1000.000000</td>\n      <td>-185.000000</td>\n    </tr>\n    <tr>\n      <th>25%</th>\n      <td>12.000000</td>\n      <td>1.364000e+03</td>\n      <td>2.000000</td>\n      <td>2.000000</td>\n      <td>27.000000</td>\n      <td>1.000000</td>\n      <td>1.000000</td>\n    </tr>\n    <tr>\n      <th>50%</th>\n      <td>18.000000</td>\n      <td>2.319000e+03</td>\n      <td>3.000000</td>\n      <td>3.000000</td>\n      <td>33.000000</td>\n      <td>1.000000</td>\n      <td>1.000000</td>\n    </tr>\n    <tr>\n      <th>75%</th>\n      <td>24.000000</td>\n      <td>3.972000e+03</td>\n      <td>4.000000</td>\n      <td>4.000000</td>\n      <td>42.000000</td>\n      <td>2.000000</td>\n      <td>1.000000</td>\n    </tr>\n    <tr>\n      <th>max</th>\n      <td>72.000000</td>\n      <td>1.842400e+04</td>\n      <td>4.000000</td>\n      <td>4.000000</td>\n      <td>75.000000</td>\n      <td>4.000000</td>\n      <td>2.000000</td>\n    </tr>\n  </tbody>\n</table>\n</div>"
     },
     "execution_count": 4,
     "metadata": {},
     "output_type": "execute_result"
    }
   ],
   "source": [
    "# Output Numeric Data\n",
    "# Student needs to provide code similar to below\n",
    "credit.describe(include=[np.number])\n"
   ]
  },
  {
   "cell_type": "code",
   "execution_count": 5,
   "metadata": {},
   "outputs": [
    {
     "data": {
      "text/plain": "       CheckingAccount CreditHistory     Purpose SavingsAccount YearsEmployed  \\\ncount             1001          1001        1001           1001          1001   \nunique               4             5          10              5             5   \ntop               none    ok_til_now  television           <100            <4   \nfreq               394           530         280            603           339   \n\n       PersonalStatus OtherDebtors Property OtherPlans Housing      Job  \\\ncount            1001         1001     1001       1001    1001     1001   \nunique              5            3        4          3       3        4   \ntop       male_single         none      car       none     own  skilled   \nfreq              548          908      333        815     714      631   \n\n       Telephone Foreign Approve  \ncount       1001    1001    1001  \nunique         2       2       2  \ntop           no     yes    good  \nfreq         596     963     701  ",
      "text/html": "<div>\n<style scoped>\n    .dataframe tbody tr th:only-of-type {\n        vertical-align: middle;\n    }\n\n    .dataframe tbody tr th {\n        vertical-align: top;\n    }\n\n    .dataframe thead th {\n        text-align: right;\n    }\n</style>\n<table border=\"1\" class=\"dataframe\">\n  <thead>\n    <tr style=\"text-align: right;\">\n      <th></th>\n      <th>CheckingAccount</th>\n      <th>CreditHistory</th>\n      <th>Purpose</th>\n      <th>SavingsAccount</th>\n      <th>YearsEmployed</th>\n      <th>PersonalStatus</th>\n      <th>OtherDebtors</th>\n      <th>Property</th>\n      <th>OtherPlans</th>\n      <th>Housing</th>\n      <th>Job</th>\n      <th>Telephone</th>\n      <th>Foreign</th>\n      <th>Approve</th>\n    </tr>\n  </thead>\n  <tbody>\n    <tr>\n      <th>count</th>\n      <td>1001</td>\n      <td>1001</td>\n      <td>1001</td>\n      <td>1001</td>\n      <td>1001</td>\n      <td>1001</td>\n      <td>1001</td>\n      <td>1001</td>\n      <td>1001</td>\n      <td>1001</td>\n      <td>1001</td>\n      <td>1001</td>\n      <td>1001</td>\n      <td>1001</td>\n    </tr>\n    <tr>\n      <th>unique</th>\n      <td>4</td>\n      <td>5</td>\n      <td>10</td>\n      <td>5</td>\n      <td>5</td>\n      <td>5</td>\n      <td>3</td>\n      <td>4</td>\n      <td>3</td>\n      <td>3</td>\n      <td>4</td>\n      <td>2</td>\n      <td>2</td>\n      <td>2</td>\n    </tr>\n    <tr>\n      <th>top</th>\n      <td>none</td>\n      <td>ok_til_now</td>\n      <td>television</td>\n      <td>&lt;100</td>\n      <td>&lt;4</td>\n      <td>male_single</td>\n      <td>none</td>\n      <td>car</td>\n      <td>none</td>\n      <td>own</td>\n      <td>skilled</td>\n      <td>no</td>\n      <td>yes</td>\n      <td>good</td>\n    </tr>\n    <tr>\n      <th>freq</th>\n      <td>394</td>\n      <td>530</td>\n      <td>280</td>\n      <td>603</td>\n      <td>339</td>\n      <td>548</td>\n      <td>908</td>\n      <td>333</td>\n      <td>815</td>\n      <td>714</td>\n      <td>631</td>\n      <td>596</td>\n      <td>963</td>\n      <td>701</td>\n    </tr>\n  </tbody>\n</table>\n</div>"
     },
     "execution_count": 5,
     "metadata": {},
     "output_type": "execute_result"
    }
   ],
   "source": [
    "# Output Categorical Data\n",
    "# Student needs to provide code similar to below\n",
    "credit.describe(include=['O'])\n"
   ]
  },
  {
   "cell_type": "markdown",
   "metadata": {},
   "source": [
    "### ========== Question 1.3 ==========\n",
    "Display the first 10 data points of the dataset\n",
    "\n",
    "*TIP*: You may need to set the option to display all columns: look at [pandas.set_option](https://pandas.pydata.org/pandas-docs/version/1.3.1/reference/api/pandas.set_option.html)."
   ]
  },
  {
   "cell_type": "code",
   "execution_count": 6,
   "metadata": {},
   "outputs": [
    {
     "data": {
      "text/plain": "  CheckingAccount  Duration CreditHistory     Purpose  CreditAmount  \\\n0              <0       0.0            ok   furniture -1.000000e+09   \n1              <0       6.0      critical  television  1.169000e+03   \n2            <200      48.0    ok_til_now  television  5.951000e+03   \n3            none      12.0      critical   education  2.096000e+03   \n4              <0      42.0    ok_til_now   furniture  7.882000e+03   \n5              <0      24.0   past_delays     car_new  4.870000e+03   \n6            none      36.0    ok_til_now   education  9.055000e+03   \n7            none      24.0    ok_til_now   furniture  2.835000e+03   \n8            <200      36.0    ok_til_now    car_used  6.948000e+03   \n9            none      12.0    ok_til_now  television  3.059000e+03   \n\n  SavingsAccount YearsEmployed  InstallmentRate PersonalStatus OtherDebtors  \\\n0        unknown    unemployed         -10000.0  female_single         none   \n1        unknown           >=7              4.0    male_single         none   \n2           <100            <4              2.0         female         none   \n3           <100            <7              2.0    male_single         none   \n4           <100            <7              2.0    male_single    guarantor   \n5           <100            <4              3.0    male_single         none   \n6        unknown            <4              2.0    male_single         none   \n7          <1000           >=7              3.0    male_single         none   \n8           <100            <4              2.0    male_single         none   \n9         >=1000            <7              2.0  male_divorced         none   \n\n   ResidentSince     Property    Age OtherPlans Housing  NumCreditsAtBank  \\\n0            0.0          car -293.0       none     own           -1000.0   \n1            4.0  real_estate   67.0       none     own               2.0   \n2            2.0  real_estate   22.0       none     own               1.0   \n3            3.0  real_estate   49.0       none     own               1.0   \n4            4.0      savings   45.0       none    free               1.0   \n5            4.0      unknown   53.0       none    free               2.0   \n6            4.0      unknown   35.0       none    free               1.0   \n7            4.0      savings   53.0       none     own               1.0   \n8            2.0          car   35.0       none    rent               1.0   \n9            4.0  real_estate   61.0       none     own               1.0   \n\n          Job  Dependents Telephone Foreign Approve  \n0     skilled      -185.0       yes      no    good  \n1     skilled         1.0       yes     yes    good  \n2     skilled         1.0        no     yes     bad  \n3   unskilled         2.0        no     yes    good  \n4     skilled         2.0        no     yes    good  \n5     skilled         2.0        no     yes     bad  \n6   unskilled         2.0       yes     yes    good  \n7     skilled         1.0        no     yes    good  \n8  management         1.0       yes     yes    good  \n9   unskilled         1.0        no     yes    good  ",
      "text/html": "<div>\n<style scoped>\n    .dataframe tbody tr th:only-of-type {\n        vertical-align: middle;\n    }\n\n    .dataframe tbody tr th {\n        vertical-align: top;\n    }\n\n    .dataframe thead th {\n        text-align: right;\n    }\n</style>\n<table border=\"1\" class=\"dataframe\">\n  <thead>\n    <tr style=\"text-align: right;\">\n      <th></th>\n      <th>CheckingAccount</th>\n      <th>Duration</th>\n      <th>CreditHistory</th>\n      <th>Purpose</th>\n      <th>CreditAmount</th>\n      <th>SavingsAccount</th>\n      <th>YearsEmployed</th>\n      <th>InstallmentRate</th>\n      <th>PersonalStatus</th>\n      <th>OtherDebtors</th>\n      <th>ResidentSince</th>\n      <th>Property</th>\n      <th>Age</th>\n      <th>OtherPlans</th>\n      <th>Housing</th>\n      <th>NumCreditsAtBank</th>\n      <th>Job</th>\n      <th>Dependents</th>\n      <th>Telephone</th>\n      <th>Foreign</th>\n      <th>Approve</th>\n    </tr>\n  </thead>\n  <tbody>\n    <tr>\n      <th>0</th>\n      <td>&lt;0</td>\n      <td>0.0</td>\n      <td>ok</td>\n      <td>furniture</td>\n      <td>-1.000000e+09</td>\n      <td>unknown</td>\n      <td>unemployed</td>\n      <td>-10000.0</td>\n      <td>female_single</td>\n      <td>none</td>\n      <td>0.0</td>\n      <td>car</td>\n      <td>-293.0</td>\n      <td>none</td>\n      <td>own</td>\n      <td>-1000.0</td>\n      <td>skilled</td>\n      <td>-185.0</td>\n      <td>yes</td>\n      <td>no</td>\n      <td>good</td>\n    </tr>\n    <tr>\n      <th>1</th>\n      <td>&lt;0</td>\n      <td>6.0</td>\n      <td>critical</td>\n      <td>television</td>\n      <td>1.169000e+03</td>\n      <td>unknown</td>\n      <td>&gt;=7</td>\n      <td>4.0</td>\n      <td>male_single</td>\n      <td>none</td>\n      <td>4.0</td>\n      <td>real_estate</td>\n      <td>67.0</td>\n      <td>none</td>\n      <td>own</td>\n      <td>2.0</td>\n      <td>skilled</td>\n      <td>1.0</td>\n      <td>yes</td>\n      <td>yes</td>\n      <td>good</td>\n    </tr>\n    <tr>\n      <th>2</th>\n      <td>&lt;200</td>\n      <td>48.0</td>\n      <td>ok_til_now</td>\n      <td>television</td>\n      <td>5.951000e+03</td>\n      <td>&lt;100</td>\n      <td>&lt;4</td>\n      <td>2.0</td>\n      <td>female</td>\n      <td>none</td>\n      <td>2.0</td>\n      <td>real_estate</td>\n      <td>22.0</td>\n      <td>none</td>\n      <td>own</td>\n      <td>1.0</td>\n      <td>skilled</td>\n      <td>1.0</td>\n      <td>no</td>\n      <td>yes</td>\n      <td>bad</td>\n    </tr>\n    <tr>\n      <th>3</th>\n      <td>none</td>\n      <td>12.0</td>\n      <td>critical</td>\n      <td>education</td>\n      <td>2.096000e+03</td>\n      <td>&lt;100</td>\n      <td>&lt;7</td>\n      <td>2.0</td>\n      <td>male_single</td>\n      <td>none</td>\n      <td>3.0</td>\n      <td>real_estate</td>\n      <td>49.0</td>\n      <td>none</td>\n      <td>own</td>\n      <td>1.0</td>\n      <td>unskilled</td>\n      <td>2.0</td>\n      <td>no</td>\n      <td>yes</td>\n      <td>good</td>\n    </tr>\n    <tr>\n      <th>4</th>\n      <td>&lt;0</td>\n      <td>42.0</td>\n      <td>ok_til_now</td>\n      <td>furniture</td>\n      <td>7.882000e+03</td>\n      <td>&lt;100</td>\n      <td>&lt;7</td>\n      <td>2.0</td>\n      <td>male_single</td>\n      <td>guarantor</td>\n      <td>4.0</td>\n      <td>savings</td>\n      <td>45.0</td>\n      <td>none</td>\n      <td>free</td>\n      <td>1.0</td>\n      <td>skilled</td>\n      <td>2.0</td>\n      <td>no</td>\n      <td>yes</td>\n      <td>good</td>\n    </tr>\n    <tr>\n      <th>5</th>\n      <td>&lt;0</td>\n      <td>24.0</td>\n      <td>past_delays</td>\n      <td>car_new</td>\n      <td>4.870000e+03</td>\n      <td>&lt;100</td>\n      <td>&lt;4</td>\n      <td>3.0</td>\n      <td>male_single</td>\n      <td>none</td>\n      <td>4.0</td>\n      <td>unknown</td>\n      <td>53.0</td>\n      <td>none</td>\n      <td>free</td>\n      <td>2.0</td>\n      <td>skilled</td>\n      <td>2.0</td>\n      <td>no</td>\n      <td>yes</td>\n      <td>bad</td>\n    </tr>\n    <tr>\n      <th>6</th>\n      <td>none</td>\n      <td>36.0</td>\n      <td>ok_til_now</td>\n      <td>education</td>\n      <td>9.055000e+03</td>\n      <td>unknown</td>\n      <td>&lt;4</td>\n      <td>2.0</td>\n      <td>male_single</td>\n      <td>none</td>\n      <td>4.0</td>\n      <td>unknown</td>\n      <td>35.0</td>\n      <td>none</td>\n      <td>free</td>\n      <td>1.0</td>\n      <td>unskilled</td>\n      <td>2.0</td>\n      <td>yes</td>\n      <td>yes</td>\n      <td>good</td>\n    </tr>\n    <tr>\n      <th>7</th>\n      <td>none</td>\n      <td>24.0</td>\n      <td>ok_til_now</td>\n      <td>furniture</td>\n      <td>2.835000e+03</td>\n      <td>&lt;1000</td>\n      <td>&gt;=7</td>\n      <td>3.0</td>\n      <td>male_single</td>\n      <td>none</td>\n      <td>4.0</td>\n      <td>savings</td>\n      <td>53.0</td>\n      <td>none</td>\n      <td>own</td>\n      <td>1.0</td>\n      <td>skilled</td>\n      <td>1.0</td>\n      <td>no</td>\n      <td>yes</td>\n      <td>good</td>\n    </tr>\n    <tr>\n      <th>8</th>\n      <td>&lt;200</td>\n      <td>36.0</td>\n      <td>ok_til_now</td>\n      <td>car_used</td>\n      <td>6.948000e+03</td>\n      <td>&lt;100</td>\n      <td>&lt;4</td>\n      <td>2.0</td>\n      <td>male_single</td>\n      <td>none</td>\n      <td>2.0</td>\n      <td>car</td>\n      <td>35.0</td>\n      <td>none</td>\n      <td>rent</td>\n      <td>1.0</td>\n      <td>management</td>\n      <td>1.0</td>\n      <td>yes</td>\n      <td>yes</td>\n      <td>good</td>\n    </tr>\n    <tr>\n      <th>9</th>\n      <td>none</td>\n      <td>12.0</td>\n      <td>ok_til_now</td>\n      <td>television</td>\n      <td>3.059000e+03</td>\n      <td>&gt;=1000</td>\n      <td>&lt;7</td>\n      <td>2.0</td>\n      <td>male_divorced</td>\n      <td>none</td>\n      <td>4.0</td>\n      <td>real_estate</td>\n      <td>61.0</td>\n      <td>none</td>\n      <td>own</td>\n      <td>1.0</td>\n      <td>unskilled</td>\n      <td>1.0</td>\n      <td>no</td>\n      <td>yes</td>\n      <td>good</td>\n    </tr>\n  </tbody>\n</table>\n</div>"
     },
     "execution_count": 6,
     "metadata": {},
     "output_type": "execute_result"
    }
   ],
   "source": [
    "# Student needs to provide code similar to below\n",
    "pd.set_option('display.max_columns', None)\n",
    "credit.head(10)\n"
   ]
  },
  {
   "cell_type": "markdown",
   "metadata": {},
   "source": [
    "### ========== Question 1.4 ==========\n",
    "When presented with a dataset, it is usually a good idea to visualise it first. By using seaborn's [pairplot](https://seaborn.github.io/generated/seaborn.pairplot.html?highlight=pairplot#seaborn.pairplot) function, try visualising a scatter plot of the `Age` and `Duration` variables. You can use the `Approve` variable as the `hue` parameter to visualise results separately for each class. Do you notice anything unusual?"
   ]
  },
  {
   "cell_type": "code",
   "execution_count": 7,
   "metadata": {},
   "outputs": [
    {
     "data": {
      "text/plain": "<Figure size 492.75x432 with 6 Axes>",
      "image/png": "[encoded data removed]"
     },
     "metadata": {
      "needs_background": "light"
     },
     "output_type": "display_data"
    }
   ],
   "source": [
    "# Student needs to provide code similar to below\n",
    "g = sns.pairplot(data=credit, vars=['Duration', 'Age'], hue='Approve', height=3)\n"
   ]
  },
  {
   "cell_type": "markdown",
   "metadata": {},
   "source": [
    "***Student needs to answer similar to below:***\n",
    "\n",
    "There is a data point with negative age. This doesn't make sense whatsoever and this data point has been clearly corrupted with noise.\n"
   ]
  },
  {
   "cell_type": "markdown",
   "metadata": {},
   "source": [
    "### ========== Question 1.5 ==========\n",
    "In the previous point you should have found a data point, which seems to be corrupted, as some of its values are nonsensical. Even a single point like this can significantly affect the performance of a classifier. How do you think it would affect Decision trees? How about Naive Bayes? A good way to check this is to test the performance of each classifier before and after removing this datapoint."
   ]
  },
  {
   "cell_type": "markdown",
   "metadata": {},
   "source": [
    "***Student needs to answer similar to below:***\n",
    "\n",
    "In such a continuous scenario, Naive Bayes fits Gaussian distributions and thus is very sensitive to outliers. Decision trees is expected to be less affected.\n"
   ]
  },
  {
   "cell_type": "markdown",
   "metadata": {},
   "source": [
    "### ========== Question 1.6 ==========\n",
    "Now we want to remove this instance from the dataset by using a filter. In general, we want to remove all instances, where the age of an applicant is lower than 0 years, as this suggests that the instance is corrupted. Use logical indexing to get rid of these instances without creating a new dataframe. Display the number of data points after any outliers have been removed."
   ]
  },
  {
   "cell_type": "code",
   "execution_count": 8,
   "metadata": {},
   "outputs": [
    {
     "name": "stdout",
     "output_type": "stream",
     "text": [
      "Number of data points after removal of outliers: 1000\n"
     ]
    }
   ],
   "source": [
    "# Student needs to provide code similar to below\n",
    "credit = credit[credit['Age']>0]\n",
    "print('Number of data points after removal of outliers: {}'.format(credit.shape[0]))\n"
   ]
  },
  {
   "cell_type": "markdown",
   "metadata": {},
   "source": [
    "## Categorical Data and Encoding"
   ]
  },
  {
   "cell_type": "markdown",
   "metadata": {},
   "source": [
    "### ========== Question 1.7 ==========\n",
    "\n",
    "You might have noticed that most of the attributes in the dataset are in fact discrete. Now we want to know which variables exactly are discrete (both categorical and numerical, look [here](http://stats.stackexchange.com/questions/206/what-is-the-difference-between-discrete-data-and-continuous-data) if you are unsure about the difference) and which are continuous variables. In order to do so, we will inspect the number of possible values that each attribute can take. \n",
    "\n",
    "Display the number of values each attributes takes in the dataset. *Hint: As a first step, you want to loop over the columns of the DataFrame. Then you might find the numpy `unique` function quite useful.*"
   ]
  },
  {
   "cell_type": "code",
   "execution_count": 9,
   "metadata": {},
   "outputs": [
    {
     "name": "stdout",
     "output_type": "stream",
     "text": [
      "Number of values for attribute CheckingAccount: 4 -- ['<0' '<200' '>=200' 'none']\n",
      "Number of values for attribute Duration: 33\n",
      "Number of values for attribute CreditHistory: 5 -- ['critical' 'ok' 'ok_at_this_bank' 'ok_til_now' 'past_delays']\n",
      "Number of values for attribute Purpose: 10 -- ['appliances' 'business' 'car_new' 'car_used' 'education' 'furniture'\n",
      " 'others' 'repairs' 'retraining' 'television']\n",
      "Number of values for attribute CreditAmount: 921\n",
      "Number of values for attribute SavingsAccount: 5 -- ['<100' '<1000' '<500' '>=1000' 'unknown']\n",
      "Number of values for attribute YearsEmployed: 5 -- ['<1' '<4' '<7' '>=7' 'unemployed']\n",
      "Number of values for attribute InstallmentRate: 4 -- [1. 2. 3. 4.]\n",
      "Number of values for attribute PersonalStatus: 4 -- ['female' 'male_divorced' 'male_married' 'male_single']\n",
      "Number of values for attribute OtherDebtors: 3 -- ['co' 'guarantor' 'none']\n",
      "Number of values for attribute ResidentSince: 4 -- [1. 2. 3. 4.]\n",
      "Number of values for attribute Property: 4 -- ['car' 'real_estate' 'savings' 'unknown']\n",
      "Number of values for attribute Age: 53\n",
      "Number of values for attribute OtherPlans: 3 -- ['bank' 'none' 'stores']\n",
      "Number of values for attribute Housing: 3 -- ['free' 'own' 'rent']\n",
      "Number of values for attribute NumCreditsAtBank: 4 -- [1. 2. 3. 4.]\n",
      "Number of values for attribute Job: 4 -- ['management' 'skilled' 'unemployed' 'unskilled']\n",
      "Number of values for attribute Dependents: 2 -- [1. 2.]\n",
      "Number of values for attribute Telephone: 2 -- ['no' 'yes']\n",
      "Number of values for attribute Foreign: 2 -- ['no' 'yes']\n",
      "Number of values for attribute Approve: 2 -- ['bad' 'good']\n"
     ]
    }
   ],
   "source": [
    "# Student needs to provide code similar to below\n",
    "for column in credit:\n",
    "    unique_vals = np.unique(credit[column])\n",
    "    nr_vals = len(unique_vals)\n",
    "    if nr_vals < 11:\n",
    "        print('Number of values for attribute {}: {} -- {}'.format(column, nr_vals, unique_vals))\n",
    "    else:\n",
    "        print('Number of values for attribute {}: {}'.format(column, nr_vals)) \n"
   ]
  },
  {
   "cell_type": "markdown",
   "metadata": {},
   "source": [
    "It seems like the variables `Duration`, `CreditAmount` and `Age` are continuous and all the rest are discrete. The discrete variables are not in a very convenient format though. Ideally we would want the discrete attributes to take values between `0` and `n_values-1`. Pandas has a handy way of dealing with [Categorical](https://pandas.pydata.org/pandas-docs/version/1.3.1/user_guide/categorical.html) data, which you are encouraged to get familiar with.\n",
    "\n",
    "We will create a new DataFrame called `credit_clean` and convert all the discrete variables from `credit` into pandas Categorical types. Remember, we want to change the discrete variables only, so we will have to exclude the `CreditAmount`, `Age` and `Duration` attributes. Also, we don't really mind if the target variable is categorical, so we won't be transforming the `Approve` attribute either. Execute the cell below and make sure you understand what it does."
   ]
  },
  {
   "cell_type": "code",
   "execution_count": 10,
   "metadata": {},
   "outputs": [],
   "source": [
    "credit_clean = credit.copy(deep=True) # Make a copy of the DataFrame\n",
    "for column in credit_clean.columns:   \n",
    "    if column not in ['CreditAmount', 'Age', 'Duration', 'Approve']: # Exclude non discrete columns and the target\n",
    "        credit_clean[column] = credit_clean[column].astype('category') # Convert using astype(...) method"
   ]
  },
  {
   "cell_type": "markdown",
   "metadata": {},
   "source": [
    "### ========== Question 1.8 ==========\n",
    "Display the first 10 data points of the clean data. Does it look like what you expected?"
   ]
  },
  {
   "cell_type": "code",
   "execution_count": 11,
   "metadata": {},
   "outputs": [
    {
     "data": {
      "text/plain": "   CheckingAccount  Duration CreditHistory     Purpose  CreditAmount  \\\n1               <0       6.0      critical  television        1169.0   \n2             <200      48.0    ok_til_now  television        5951.0   \n3             none      12.0      critical   education        2096.0   \n4               <0      42.0    ok_til_now   furniture        7882.0   \n5               <0      24.0   past_delays     car_new        4870.0   \n6             none      36.0    ok_til_now   education        9055.0   \n7             none      24.0    ok_til_now   furniture        2835.0   \n8             <200      36.0    ok_til_now    car_used        6948.0   \n9             none      12.0    ok_til_now  television        3059.0   \n10            <200      30.0      critical     car_new        5234.0   \n\n   SavingsAccount YearsEmployed InstallmentRate PersonalStatus OtherDebtors  \\\n1         unknown           >=7             4.0    male_single         none   \n2            <100            <4             2.0         female         none   \n3            <100            <7             2.0    male_single         none   \n4            <100            <7             2.0    male_single    guarantor   \n5            <100            <4             3.0    male_single         none   \n6         unknown            <4             2.0    male_single         none   \n7           <1000           >=7             3.0    male_single         none   \n8            <100            <4             2.0    male_single         none   \n9          >=1000            <7             2.0  male_divorced         none   \n10           <100    unemployed             4.0   male_married         none   \n\n   ResidentSince     Property   Age OtherPlans Housing NumCreditsAtBank  \\\n1            4.0  real_estate  67.0       none     own              2.0   \n2            2.0  real_estate  22.0       none     own              1.0   \n3            3.0  real_estate  49.0       none     own              1.0   \n4            4.0      savings  45.0       none    free              1.0   \n5            4.0      unknown  53.0       none    free              2.0   \n6            4.0      unknown  35.0       none    free              1.0   \n7            4.0      savings  53.0       none     own              1.0   \n8            2.0          car  35.0       none    rent              1.0   \n9            4.0  real_estate  61.0       none     own              1.0   \n10           2.0          car  28.0       none     own              2.0   \n\n           Job Dependents Telephone Foreign Approve  \n1      skilled        1.0       yes     yes    good  \n2      skilled        1.0        no     yes     bad  \n3    unskilled        2.0        no     yes    good  \n4      skilled        2.0        no     yes    good  \n5      skilled        2.0        no     yes     bad  \n6    unskilled        2.0       yes     yes    good  \n7      skilled        1.0        no     yes    good  \n8   management        1.0       yes     yes    good  \n9    unskilled        1.0        no     yes    good  \n10  management        1.0        no     yes     bad  ",
      "text/html": "<div>\n<style scoped>\n    .dataframe tbody tr th:only-of-type {\n        vertical-align: middle;\n    }\n\n    .dataframe tbody tr th {\n        vertical-align: top;\n    }\n\n    .dataframe thead th {\n        text-align: right;\n    }\n</style>\n<table border=\"1\" class=\"dataframe\">\n  <thead>\n    <tr style=\"text-align: right;\">\n      <th></th>\n      <th>CheckingAccount</th>\n      <th>Duration</th>\n      <th>CreditHistory</th>\n      <th>Purpose</th>\n      <th>CreditAmount</th>\n      <th>SavingsAccount</th>\n      <th>YearsEmployed</th>\n      <th>InstallmentRate</th>\n      <th>PersonalStatus</th>\n      <th>OtherDebtors</th>\n      <th>ResidentSince</th>\n      <th>Property</th>\n      <th>Age</th>\n      <th>OtherPlans</th>\n      <th>Housing</th>\n      <th>NumCreditsAtBank</th>\n      <th>Job</th>\n      <th>Dependents</th>\n      <th>Telephone</th>\n      <th>Foreign</th>\n      <th>Approve</th>\n    </tr>\n  </thead>\n  <tbody>\n    <tr>\n      <th>1</th>\n      <td>&lt;0</td>\n      <td>6.0</td>\n      <td>critical</td>\n      <td>television</td>\n      <td>1169.0</td>\n      <td>unknown</td>\n      <td>&gt;=7</td>\n      <td>4.0</td>\n      <td>male_single</td>\n      <td>none</td>\n      <td>4.0</td>\n      <td>real_estate</td>\n      <td>67.0</td>\n      <td>none</td>\n      <td>own</td>\n      <td>2.0</td>\n      <td>skilled</td>\n      <td>1.0</td>\n      <td>yes</td>\n      <td>yes</td>\n      <td>good</td>\n    </tr>\n    <tr>\n      <th>2</th>\n      <td>&lt;200</td>\n      <td>48.0</td>\n      <td>ok_til_now</td>\n      <td>television</td>\n      <td>5951.0</td>\n      <td>&lt;100</td>\n      <td>&lt;4</td>\n      <td>2.0</td>\n      <td>female</td>\n      <td>none</td>\n      <td>2.0</td>\n      <td>real_estate</td>\n      <td>22.0</td>\n      <td>none</td>\n      <td>own</td>\n      <td>1.0</td>\n      <td>skilled</td>\n      <td>1.0</td>\n      <td>no</td>\n      <td>yes</td>\n      <td>bad</td>\n    </tr>\n    <tr>\n      <th>3</th>\n      <td>none</td>\n      <td>12.0</td>\n      <td>critical</td>\n      <td>education</td>\n      <td>2096.0</td>\n      <td>&lt;100</td>\n      <td>&lt;7</td>\n      <td>2.0</td>\n      <td>male_single</td>\n      <td>none</td>\n      <td>3.0</td>\n      <td>real_estate</td>\n      <td>49.0</td>\n      <td>none</td>\n      <td>own</td>\n      <td>1.0</td>\n      <td>unskilled</td>\n      <td>2.0</td>\n      <td>no</td>\n      <td>yes</td>\n      <td>good</td>\n    </tr>\n    <tr>\n      <th>4</th>\n      <td>&lt;0</td>\n      <td>42.0</td>\n      <td>ok_til_now</td>\n      <td>furniture</td>\n      <td>7882.0</td>\n      <td>&lt;100</td>\n      <td>&lt;7</td>\n      <td>2.0</td>\n      <td>male_single</td>\n      <td>guarantor</td>\n      <td>4.0</td>\n      <td>savings</td>\n      <td>45.0</td>\n      <td>none</td>\n      <td>free</td>\n      <td>1.0</td>\n      <td>skilled</td>\n      <td>2.0</td>\n      <td>no</td>\n      <td>yes</td>\n      <td>good</td>\n    </tr>\n    <tr>\n      <th>5</th>\n      <td>&lt;0</td>\n      <td>24.0</td>\n      <td>past_delays</td>\n      <td>car_new</td>\n      <td>4870.0</td>\n      <td>&lt;100</td>\n      <td>&lt;4</td>\n      <td>3.0</td>\n      <td>male_single</td>\n      <td>none</td>\n      <td>4.0</td>\n      <td>unknown</td>\n      <td>53.0</td>\n      <td>none</td>\n      <td>free</td>\n      <td>2.0</td>\n      <td>skilled</td>\n      <td>2.0</td>\n      <td>no</td>\n      <td>yes</td>\n      <td>bad</td>\n    </tr>\n    <tr>\n      <th>6</th>\n      <td>none</td>\n      <td>36.0</td>\n      <td>ok_til_now</td>\n      <td>education</td>\n      <td>9055.0</td>\n      <td>unknown</td>\n      <td>&lt;4</td>\n      <td>2.0</td>\n      <td>male_single</td>\n      <td>none</td>\n      <td>4.0</td>\n      <td>unknown</td>\n      <td>35.0</td>\n      <td>none</td>\n      <td>free</td>\n      <td>1.0</td>\n      <td>unskilled</td>\n      <td>2.0</td>\n      <td>yes</td>\n      <td>yes</td>\n      <td>good</td>\n    </tr>\n    <tr>\n      <th>7</th>\n      <td>none</td>\n      <td>24.0</td>\n      <td>ok_til_now</td>\n      <td>furniture</td>\n      <td>2835.0</td>\n      <td>&lt;1000</td>\n      <td>&gt;=7</td>\n      <td>3.0</td>\n      <td>male_single</td>\n      <td>none</td>\n      <td>4.0</td>\n      <td>savings</td>\n      <td>53.0</td>\n      <td>none</td>\n      <td>own</td>\n      <td>1.0</td>\n      <td>skilled</td>\n      <td>1.0</td>\n      <td>no</td>\n      <td>yes</td>\n      <td>good</td>\n    </tr>\n    <tr>\n      <th>8</th>\n      <td>&lt;200</td>\n      <td>36.0</td>\n      <td>ok_til_now</td>\n      <td>car_used</td>\n      <td>6948.0</td>\n      <td>&lt;100</td>\n      <td>&lt;4</td>\n      <td>2.0</td>\n      <td>male_single</td>\n      <td>none</td>\n      <td>2.0</td>\n      <td>car</td>\n      <td>35.0</td>\n      <td>none</td>\n      <td>rent</td>\n      <td>1.0</td>\n      <td>management</td>\n      <td>1.0</td>\n      <td>yes</td>\n      <td>yes</td>\n      <td>good</td>\n    </tr>\n    <tr>\n      <th>9</th>\n      <td>none</td>\n      <td>12.0</td>\n      <td>ok_til_now</td>\n      <td>television</td>\n      <td>3059.0</td>\n      <td>&gt;=1000</td>\n      <td>&lt;7</td>\n      <td>2.0</td>\n      <td>male_divorced</td>\n      <td>none</td>\n      <td>4.0</td>\n      <td>real_estate</td>\n      <td>61.0</td>\n      <td>none</td>\n      <td>own</td>\n      <td>1.0</td>\n      <td>unskilled</td>\n      <td>1.0</td>\n      <td>no</td>\n      <td>yes</td>\n      <td>good</td>\n    </tr>\n    <tr>\n      <th>10</th>\n      <td>&lt;200</td>\n      <td>30.0</td>\n      <td>critical</td>\n      <td>car_new</td>\n      <td>5234.0</td>\n      <td>&lt;100</td>\n      <td>unemployed</td>\n      <td>4.0</td>\n      <td>male_married</td>\n      <td>none</td>\n      <td>2.0</td>\n      <td>car</td>\n      <td>28.0</td>\n      <td>none</td>\n      <td>own</td>\n      <td>2.0</td>\n      <td>management</td>\n      <td>1.0</td>\n      <td>no</td>\n      <td>yes</td>\n      <td>bad</td>\n    </tr>\n  </tbody>\n</table>\n</div>"
     },
     "execution_count": 11,
     "metadata": {},
     "output_type": "execute_result"
    }
   ],
   "source": [
    "# Student needs to provide code similar to below\n",
    "credit_clean.head(10)\n"
   ]
  },
  {
   "cell_type": "markdown",
   "metadata": {},
   "source": [
    "### ========== Question 1.9 ==========\n",
    "\n",
    "There is a **conceptual** problem with using an (unordered) categorical input to train a decision tree. Can you figure it out? *Hint*: Look at the data-types supported by the `DecisionTreeClassifier`, specifically the input to the [fit](https://scikit-learn.org/0.24/modules/generated/sklearn.tree.DecisionTreeClassifier.html#sklearn.tree.DecisionTreeClassifier.fit) method."
   ]
  },
  {
   "cell_type": "markdown",
   "metadata": {},
   "source": [
    "***Student needs to answer similar to below:***\n",
    "\n",
    "The Decision Tree algorithm requires numeric data: however, most of our categorical values have no notion of ordering, and hence using a floating-point representation as required by Scikit Learn's Decision Tree class would be enforcing the wrong assumptions.\n",
    "\n"
   ]
  },
  {
   "cell_type": "markdown",
   "metadata": {},
   "source": [
    "### ========== Question 1.10 ==========\n",
    "\n",
    "Let us then convert the categorical values we just created into a one-hot-encoding. Pandas provides this functionality conveniently via the [`get_dummies`](https://pandas.pydata.org/pandas-docs/version/1.3.1/reference/api/pandas.get_dummies.html) method. Use it to generate a matrix `X` containing the one-hot encoded categorical features as well as the floating-point attributes (`CreditAmount`, `Age` and `Duration`). Also, (separately) extract the target variable (`Approve`) into a vector `y`. In each case, display the shape of the matrix/vector `X` and `y`. \n",
    "\n",
    "*TIP: It will be useful to keep track of the column names in the new one-hot-encoded format for later.*"
   ]
  },
  {
   "cell_type": "code",
   "execution_count": 12,
   "metadata": {},
   "outputs": [
    {
     "name": "stdout",
     "output_type": "stream",
     "text": [
      "X shape: (1000, 71)\n"
     ]
    }
   ],
   "source": [
    "# Extract (and print the shape of) X\n",
    "\n",
    "# Student needs to provide code similar to below\n",
    "# Extract 1-Hot Encoding into X and add floating-point columns\n",
    "X = pd.get_dummies(credit_clean.drop('Approve', axis=1))\n",
    "X[['CreditAmount', 'Age', 'Duration']] = credit_clean[['CreditAmount', 'Age', 'Duration']]\n",
    "column_names = X.columns\n",
    "# Convert to Numpy Array\n",
    "X = X.values\n",
    "print('X shape: {}'.format(X.shape))"
   ]
  },
  {
   "cell_type": "code",
   "execution_count": 13,
   "metadata": {},
   "outputs": [
    {
     "name": "stdout",
     "output_type": "stream",
     "text": [
      "y shape: (1000,)\n"
     ]
    }
   ],
   "source": [
    "# Extract the Target y (and print its shape)\n",
    "\n",
    "# Student needs to provide code similar to below\n",
    "y = credit_clean['Approve'].values # Target vector\n",
    "print('y shape: {}'.format(np.shape(y)))\n"
   ]
  },
  {
   "cell_type": "markdown",
   "metadata": {},
   "source": [
    "(Confirm that you have 71 input features, one target variable and 1000 data points). *Bonus Question*: where did the 71 come from?"
   ]
  },
  {
   "cell_type": "markdown",
   "metadata": {},
   "source": [
    "## Hold-out validation\n",
    "In the next step we will be using a Decision Tree classifier model. To get an accurate estimate of the model's classification performance we will use hold-out validation. Familiriase yourself with the logic behind [`train_test_split CV`](http://scikit-learn.org/0.24/modules/cross_validation.html#cross-validation-evaluating-estimator-performance) (also called `Hold-out` validation) and [how it is used](http://scikit-learn.org/0.24/modules/generated/sklearn.cross_validation.train_test_split.html) in `Scikit-learn`. Execute the cell below to create your training/testing sets by assigning 10% of the data to the test set (and convince yourself you understand what is going on)."
   ]
  },
  {
   "cell_type": "code",
   "execution_count": 14,
   "metadata": {},
   "outputs": [],
   "source": [
    "X_train, X_test, y_train, y_test = train_test_split(X, y, train_size = 0.9, test_size=0.1, random_state=0)"
   ]
  },
  {
   "cell_type": "markdown",
   "metadata": {},
   "source": [
    "### ========== Question 1.11 ==========\n",
    "Confirm that `X_train` and `X_test` matrices are subsets of `X` by displaying the number of rows in the three matrices (no need to make use of set theory)."
   ]
  },
  {
   "cell_type": "code",
   "execution_count": 15,
   "metadata": {},
   "outputs": [
    {
     "name": "stdout",
     "output_type": "stream",
     "text": [
      "Number of instances in X: 1000\n",
      "Number of instances in X_train: 900\n",
      "Number of instances in X_test: 100\n",
      "Number of instances in X_train and X_test together: 1000\n"
     ]
    }
   ],
   "source": [
    "# Student needs to provide code similar to below\n",
    "print('Number of instances in X: {}'.format(np.shape(X)[0]))\n",
    "print('Number of instances in X_train: {}'.format(X_train.shape[0]))\n",
    "print('Number of instances in X_test: {}'.format(X_test.shape[0]))\n",
    "print('Number of instances in X_train and X_test together: {}'.format(X_train.shape[0] + X_test.shape[0]))\n"
   ]
  },
  {
   "cell_type": "markdown",
   "metadata": {},
   "source": [
    "### ========== Question 1.12 ==========\n",
    "Now we will train a Decision Tree classifier on the training data. Read about [Decision Tree classifiers](http://scikit-learn.org/0.24/modules/tree.html) in `Scikit-learn` and how they are [used](http://scikit-learn.org/0.24/modules/generated/sklearn.tree.DecisionTreeClassifier.html#sklearn.tree.DecisionTreeClassifier). \n",
    "Create a `DecisionTreeClassifier` instance, naming it `dt` and train it by using training data only (i.e. `X_train` and `y_tain`). Set the `criterion` attribute to `entropy` in order to measure the quality of splits by using the information gain. Use the default settings for the rest of parameters. By default, trees are grown to full depth; this means that very fine splits are made involving very few data points. Not only does this make the trees hard to visualise (they'll be deep), but also we could be overfitting the data. For now, we arbitrarily choose a depth of 3 for our tree (to make it easier to interpret below), but this is a parameter we could tune. For consistency, use a `random_state=1000`."
   ]
  },
  {
   "cell_type": "code",
   "execution_count": 16,
   "metadata": {},
   "outputs": [
    {
     "data": {
      "text/plain": "DecisionTreeClassifier(criterion='entropy', max_depth=3, random_state=1000)"
     },
     "execution_count": 16,
     "metadata": {},
     "output_type": "execute_result"
    }
   ],
   "source": [
    "# Student needs to provide code similar to below\n",
    "dt = DecisionTreeClassifier(criterion='entropy', max_depth=3, random_state=1000)\n",
    "dt.fit(X_train.astype(float), y_train)\n"
   ]
  },
  {
   "cell_type": "markdown",
   "metadata": {},
   "source": [
    "We have mentioned in the class that decision trees have the advantage of being interpretable by humans. Now we visualise the decision tree we have just trained. Scikit-learn can export the tree in a `.dot` format. Run the following code (replace `column_names` with whatever you used to store the names of the columns of the extended feature-space):"
   ]
  },
  {
   "cell_type": "code",
   "execution_count": 17,
   "metadata": {},
   "outputs": [
    {
     "data": {
      "text/plain": "<graphviz.files.Source at 0x233e6fe2ee0>",
      "image/svg+xml": "<?xml version=\"1.0\" encoding=\"UTF-8\" standalone=\"no\"?>\r\n<!DOCTYPE svg PUBLIC \"-//W3C//DTD SVG 1.1//EN\"\r\n \"http://www.w3.org/Graphics/SVG/1.1/DTD/svg11.dtd\">\r\n<!-- Generated by graphviz version 2.47.1 (0)\r\n -->\r\n<!-- Title: Tree Pages: 1 -->\r\n<svg width=\"1024pt\" height=\"433pt\"\r\n viewBox=\"0.00 0.00 1024.00 433.00\" xmlns=\"http://www.w3.org/2000/svg\" xmlns:xlink=\"http://www.w3.org/1999/xlink\">\r\n<g id=\"graph0\" class=\"graph\" transform=\"scale(1 1) rotate(0) translate(4 429)\">\r\n<title>Tree</title>\r\n<polygon fill=\"white\" stroke=\"transparent\" points=\"-4,4 -4,-429 1020,-429 1020,4 -4,4\"/>\r\n<!-- 0 -->\r\n<g id=\"node1\" class=\"node\">\r\n<title>0</title>\r\n<path fill=\"#90c8f0\" stroke=\"black\" d=\"M628.5,-425C628.5,-425 450.5,-425 450.5,-425 444.5,-425 438.5,-419 438.5,-413 438.5,-413 438.5,-354 438.5,-354 438.5,-348 444.5,-342 450.5,-342 450.5,-342 628.5,-342 628.5,-342 634.5,-342 640.5,-348 640.5,-354 640.5,-354 640.5,-413 640.5,-413 640.5,-419 634.5,-425 628.5,-425\"/>\r\n<text text-anchor=\"middle\" x=\"539.5\" y=\"-409.8\" font-family=\"Helvetica,sans-Serif\" font-size=\"14.00\">CheckingAccount_none &lt;= 0.5</text>\r\n<text text-anchor=\"middle\" x=\"539.5\" y=\"-394.8\" font-family=\"Helvetica,sans-Serif\" font-size=\"14.00\">entropy = 0.888</text>\r\n<text text-anchor=\"middle\" x=\"539.5\" y=\"-379.8\" font-family=\"Helvetica,sans-Serif\" font-size=\"14.00\">samples = 900</text>\r\n<text text-anchor=\"middle\" x=\"539.5\" y=\"-364.8\" font-family=\"Helvetica,sans-Serif\" font-size=\"14.00\">value = [275, 625]</text>\r\n<text text-anchor=\"middle\" x=\"539.5\" y=\"-349.8\" font-family=\"Helvetica,sans-Serif\" font-size=\"14.00\">class = good</text>\r\n</g>\r\n<!-- 1 -->\r\n<g id=\"node2\" class=\"node\">\r\n<title>1</title>\r\n<path fill=\"#cde6f8\" stroke=\"black\" d=\"M480.5,-306C480.5,-306 380.5,-306 380.5,-306 374.5,-306 368.5,-300 368.5,-294 368.5,-294 368.5,-235 368.5,-235 368.5,-229 374.5,-223 380.5,-223 380.5,-223 480.5,-223 480.5,-223 486.5,-223 492.5,-229 492.5,-235 492.5,-235 492.5,-294 492.5,-294 492.5,-300 486.5,-306 480.5,-306\"/>\r\n<text text-anchor=\"middle\" x=\"430.5\" y=\"-290.8\" font-family=\"Helvetica,sans-Serif\" font-size=\"14.00\">Duration &lt;= 11.5</text>\r\n<text text-anchor=\"middle\" x=\"430.5\" y=\"-275.8\" font-family=\"Helvetica,sans-Serif\" font-size=\"14.00\">entropy = 0.985</text>\r\n<text text-anchor=\"middle\" x=\"430.5\" y=\"-260.8\" font-family=\"Helvetica,sans-Serif\" font-size=\"14.00\">samples = 544</text>\r\n<text text-anchor=\"middle\" x=\"430.5\" y=\"-245.8\" font-family=\"Helvetica,sans-Serif\" font-size=\"14.00\">value = [233, 311]</text>\r\n<text text-anchor=\"middle\" x=\"430.5\" y=\"-230.8\" font-family=\"Helvetica,sans-Serif\" font-size=\"14.00\">class = good</text>\r\n</g>\r\n<!-- 0&#45;&gt;1 -->\r\n<g id=\"edge1\" class=\"edge\">\r\n<title>0&#45;&gt;1</title>\r\n<path fill=\"none\" stroke=\"black\" d=\"M501.68,-341.91C493.14,-332.74 484,-322.93 475.21,-313.49\"/>\r\n<polygon fill=\"black\" stroke=\"black\" points=\"477.63,-310.95 468.25,-306.02 472.51,-315.72 477.63,-310.95\"/>\r\n<text text-anchor=\"middle\" x=\"467.37\" y=\"-327.31\" font-family=\"Helvetica,sans-Serif\" font-size=\"14.00\">True</text>\r\n</g>\r\n<!-- 8 -->\r\n<g id=\"node9\" class=\"node\">\r\n<title>8</title>\r\n<path fill=\"#53aae8\" stroke=\"black\" d=\"M702,-306C702,-306 561,-306 561,-306 555,-306 549,-300 549,-294 549,-294 549,-235 549,-235 549,-229 555,-223 561,-223 561,-223 702,-223 702,-223 708,-223 714,-229 714,-235 714,-235 714,-294 714,-294 714,-300 708,-306 702,-306\"/>\r\n<text text-anchor=\"middle\" x=\"631.5\" y=\"-290.8\" font-family=\"Helvetica,sans-Serif\" font-size=\"14.00\">OtherPlans_none &lt;= 0.5</text>\r\n<text text-anchor=\"middle\" x=\"631.5\" y=\"-275.8\" font-family=\"Helvetica,sans-Serif\" font-size=\"14.00\">entropy = 0.524</text>\r\n<text text-anchor=\"middle\" x=\"631.5\" y=\"-260.8\" font-family=\"Helvetica,sans-Serif\" font-size=\"14.00\">samples = 356</text>\r\n<text text-anchor=\"middle\" x=\"631.5\" y=\"-245.8\" font-family=\"Helvetica,sans-Serif\" font-size=\"14.00\">value = [42, 314]</text>\r\n<text text-anchor=\"middle\" x=\"631.5\" y=\"-230.8\" font-family=\"Helvetica,sans-Serif\" font-size=\"14.00\">class = good</text>\r\n</g>\r\n<!-- 0&#45;&gt;8 -->\r\n<g id=\"edge8\" class=\"edge\">\r\n<title>0&#45;&gt;8</title>\r\n<path fill=\"none\" stroke=\"black\" d=\"M571.42,-341.91C578.48,-332.92 586.04,-323.32 593.32,-314.05\"/>\r\n<polygon fill=\"black\" stroke=\"black\" points=\"596.21,-316.05 599.64,-306.02 590.7,-311.72 596.21,-316.05\"/>\r\n<text text-anchor=\"middle\" x=\"602.61\" y=\"-327.14\" font-family=\"Helvetica,sans-Serif\" font-size=\"14.00\">False</text>\r\n</g>\r\n<!-- 2 -->\r\n<g id=\"node3\" class=\"node\">\r\n<title>2</title>\r\n<path fill=\"#6db7ec\" stroke=\"black\" d=\"M291,-187C291,-187 72,-187 72,-187 66,-187 60,-181 60,-175 60,-175 60,-116 60,-116 60,-110 66,-104 72,-104 72,-104 291,-104 291,-104 297,-104 303,-110 303,-116 303,-116 303,-175 303,-175 303,-181 297,-187 291,-187\"/>\r\n<text text-anchor=\"middle\" x=\"181.5\" y=\"-171.8\" font-family=\"Helvetica,sans-Serif\" font-size=\"14.00\">CreditHistory_ok_at_this_bank &lt;= 0.5</text>\r\n<text text-anchor=\"middle\" x=\"181.5\" y=\"-156.8\" font-family=\"Helvetica,sans-Serif\" font-size=\"14.00\">entropy = 0.735</text>\r\n<text text-anchor=\"middle\" x=\"181.5\" y=\"-141.8\" font-family=\"Helvetica,sans-Serif\" font-size=\"14.00\">samples = 92</text>\r\n<text text-anchor=\"middle\" x=\"181.5\" y=\"-126.8\" font-family=\"Helvetica,sans-Serif\" font-size=\"14.00\">value = [19, 73]</text>\r\n<text text-anchor=\"middle\" x=\"181.5\" y=\"-111.8\" font-family=\"Helvetica,sans-Serif\" font-size=\"14.00\">class = good</text>\r\n</g>\r\n<!-- 1&#45;&gt;2 -->\r\n<g id=\"edge2\" class=\"edge\">\r\n<title>1&#45;&gt;2</title>\r\n<path fill=\"none\" stroke=\"black\" d=\"M368.31,-234.28C340.76,-221.34 307.74,-205.82 277.17,-191.45\"/>\r\n<polygon fill=\"black\" stroke=\"black\" points=\"278.3,-188.12 267.77,-187.03 275.33,-194.45 278.3,-188.12\"/>\r\n</g>\r\n<!-- 5 -->\r\n<g id=\"node6\" class=\"node\">\r\n<title>5</title>\r\n<path fill=\"#ebf5fc\" stroke=\"black\" d=\"M512.5,-187C512.5,-187 348.5,-187 348.5,-187 342.5,-187 336.5,-181 336.5,-175 336.5,-175 336.5,-116 336.5,-116 336.5,-110 342.5,-104 348.5,-104 348.5,-104 512.5,-104 512.5,-104 518.5,-104 524.5,-110 524.5,-116 524.5,-116 524.5,-175 524.5,-175 524.5,-181 518.5,-187 512.5,-187\"/>\r\n<text text-anchor=\"middle\" x=\"430.5\" y=\"-171.8\" font-family=\"Helvetica,sans-Serif\" font-size=\"14.00\">CheckingAccount_&lt;0 &lt;= 0.5</text>\r\n<text text-anchor=\"middle\" x=\"430.5\" y=\"-156.8\" font-family=\"Helvetica,sans-Serif\" font-size=\"14.00\">entropy = 0.998</text>\r\n<text text-anchor=\"middle\" x=\"430.5\" y=\"-141.8\" font-family=\"Helvetica,sans-Serif\" font-size=\"14.00\">samples = 452</text>\r\n<text text-anchor=\"middle\" x=\"430.5\" y=\"-126.8\" font-family=\"Helvetica,sans-Serif\" font-size=\"14.00\">value = [214, 238]</text>\r\n<text text-anchor=\"middle\" x=\"430.5\" y=\"-111.8\" font-family=\"Helvetica,sans-Serif\" font-size=\"14.00\">class = good</text>\r\n</g>\r\n<!-- 1&#45;&gt;5 -->\r\n<g id=\"edge5\" class=\"edge\">\r\n<title>1&#45;&gt;5</title>\r\n<path fill=\"none\" stroke=\"black\" d=\"M430.5,-222.91C430.5,-214.65 430.5,-205.86 430.5,-197.3\"/>\r\n<polygon fill=\"black\" stroke=\"black\" points=\"434,-197.02 430.5,-187.02 427,-197.02 434,-197.02\"/>\r\n</g>\r\n<!-- 3 -->\r\n<g id=\"node4\" class=\"node\">\r\n<title>3</title>\r\n<path fill=\"#5fb0ea\" stroke=\"black\" d=\"M99,-68C99,-68 12,-68 12,-68 6,-68 0,-62 0,-56 0,-56 0,-12 0,-12 0,-6 6,0 12,0 12,0 99,0 99,0 105,0 111,-6 111,-12 111,-12 111,-56 111,-56 111,-62 105,-68 99,-68\"/>\r\n<text text-anchor=\"middle\" x=\"55.5\" y=\"-52.8\" font-family=\"Helvetica,sans-Serif\" font-size=\"14.00\">entropy = 0.641</text>\r\n<text text-anchor=\"middle\" x=\"55.5\" y=\"-37.8\" font-family=\"Helvetica,sans-Serif\" font-size=\"14.00\">samples = 86</text>\r\n<text text-anchor=\"middle\" x=\"55.5\" y=\"-22.8\" font-family=\"Helvetica,sans-Serif\" font-size=\"14.00\">value = [14, 72]</text>\r\n<text text-anchor=\"middle\" x=\"55.5\" y=\"-7.8\" font-family=\"Helvetica,sans-Serif\" font-size=\"14.00\">class = good</text>\r\n</g>\r\n<!-- 2&#45;&gt;3 -->\r\n<g id=\"edge3\" class=\"edge\">\r\n<title>2&#45;&gt;3</title>\r\n<path fill=\"none\" stroke=\"black\" d=\"M134.58,-103.73C123.77,-94.33 112.29,-84.35 101.51,-74.99\"/>\r\n<polygon fill=\"black\" stroke=\"black\" points=\"103.66,-72.22 93.82,-68.3 99.07,-77.5 103.66,-72.22\"/>\r\n</g>\r\n<!-- 4 -->\r\n<g id=\"node5\" class=\"node\">\r\n<title>4</title>\r\n<path fill=\"#ea9a61\" stroke=\"black\" d=\"M221.5,-68C221.5,-68 141.5,-68 141.5,-68 135.5,-68 129.5,-62 129.5,-56 129.5,-56 129.5,-12 129.5,-12 129.5,-6 135.5,0 141.5,0 141.5,0 221.5,0 221.5,0 227.5,0 233.5,-6 233.5,-12 233.5,-12 233.5,-56 233.5,-56 233.5,-62 227.5,-68 221.5,-68\"/>\r\n<text text-anchor=\"middle\" x=\"181.5\" y=\"-52.8\" font-family=\"Helvetica,sans-Serif\" font-size=\"14.00\">entropy = 0.65</text>\r\n<text text-anchor=\"middle\" x=\"181.5\" y=\"-37.8\" font-family=\"Helvetica,sans-Serif\" font-size=\"14.00\">samples = 6</text>\r\n<text text-anchor=\"middle\" x=\"181.5\" y=\"-22.8\" font-family=\"Helvetica,sans-Serif\" font-size=\"14.00\">value = [5, 1]</text>\r\n<text text-anchor=\"middle\" x=\"181.5\" y=\"-7.8\" font-family=\"Helvetica,sans-Serif\" font-size=\"14.00\">class = bad</text>\r\n</g>\r\n<!-- 2&#45;&gt;4 -->\r\n<g id=\"edge4\" class=\"edge\">\r\n<title>2&#45;&gt;4</title>\r\n<path fill=\"none\" stroke=\"black\" d=\"M181.5,-103.73C181.5,-95.52 181.5,-86.86 181.5,-78.56\"/>\r\n<polygon fill=\"black\" stroke=\"black\" points=\"185,-78.3 181.5,-68.3 178,-78.3 185,-78.3\"/>\r\n</g>\r\n<!-- 6 -->\r\n<g id=\"node7\" class=\"node\">\r\n<title>6</title>\r\n<path fill=\"#b2d9f5\" stroke=\"black\" d=\"M357,-68C357,-68 264,-68 264,-68 258,-68 252,-62 252,-56 252,-56 252,-12 252,-12 252,-6 258,0 264,0 264,0 357,0 357,0 363,0 369,-6 369,-12 369,-12 369,-56 369,-56 369,-62 363,-68 357,-68\"/>\r\n<text text-anchor=\"middle\" x=\"310.5\" y=\"-52.8\" font-family=\"Helvetica,sans-Serif\" font-size=\"14.00\">entropy = 0.957</text>\r\n<text text-anchor=\"middle\" x=\"310.5\" y=\"-37.8\" font-family=\"Helvetica,sans-Serif\" font-size=\"14.00\">samples = 243</text>\r\n<text text-anchor=\"middle\" x=\"310.5\" y=\"-22.8\" font-family=\"Helvetica,sans-Serif\" font-size=\"14.00\">value = [92, 151]</text>\r\n<text text-anchor=\"middle\" x=\"310.5\" y=\"-7.8\" font-family=\"Helvetica,sans-Serif\" font-size=\"14.00\">class = good</text>\r\n</g>\r\n<!-- 5&#45;&gt;6 -->\r\n<g id=\"edge6\" class=\"edge\">\r\n<title>5&#45;&gt;6</title>\r\n<path fill=\"none\" stroke=\"black\" d=\"M385.82,-103.73C375.62,-94.42 364.79,-84.54 354.62,-75.26\"/>\r\n<polygon fill=\"black\" stroke=\"black\" points=\"356.74,-72.45 346.99,-68.3 352.02,-77.63 356.74,-72.45\"/>\r\n</g>\r\n<!-- 7 -->\r\n<g id=\"node8\" class=\"node\">\r\n<title>7</title>\r\n<path fill=\"#f8dbc6\" stroke=\"black\" d=\"M492,-68C492,-68 399,-68 399,-68 393,-68 387,-62 387,-56 387,-56 387,-12 387,-12 387,-6 393,0 399,0 399,0 492,0 492,0 498,0 504,-6 504,-12 504,-12 504,-56 504,-56 504,-62 498,-68 492,-68\"/>\r\n<text text-anchor=\"middle\" x=\"445.5\" y=\"-52.8\" font-family=\"Helvetica,sans-Serif\" font-size=\"14.00\">entropy = 0.98</text>\r\n<text text-anchor=\"middle\" x=\"445.5\" y=\"-37.8\" font-family=\"Helvetica,sans-Serif\" font-size=\"14.00\">samples = 209</text>\r\n<text text-anchor=\"middle\" x=\"445.5\" y=\"-22.8\" font-family=\"Helvetica,sans-Serif\" font-size=\"14.00\">value = [122, 87]</text>\r\n<text text-anchor=\"middle\" x=\"445.5\" y=\"-7.8\" font-family=\"Helvetica,sans-Serif\" font-size=\"14.00\">class = bad</text>\r\n</g>\r\n<!-- 5&#45;&gt;7 -->\r\n<g id=\"edge7\" class=\"edge\">\r\n<title>5&#45;&gt;7</title>\r\n<path fill=\"none\" stroke=\"black\" d=\"M436.09,-103.73C437.22,-95.43 438.42,-86.67 439.57,-78.28\"/>\r\n<polygon fill=\"black\" stroke=\"black\" points=\"443.05,-78.68 440.94,-68.3 436.11,-77.73 443.05,-78.68\"/>\r\n</g>\r\n<!-- 9 -->\r\n<g id=\"node10\" class=\"node\">\r\n<title>9</title>\r\n<path fill=\"#92c9f1\" stroke=\"black\" d=\"M675,-187C675,-187 588,-187 588,-187 582,-187 576,-181 576,-175 576,-175 576,-116 576,-116 576,-110 582,-104 588,-104 588,-104 675,-104 675,-104 681,-104 687,-110 687,-116 687,-116 687,-175 687,-175 687,-181 681,-187 675,-187\"/>\r\n<text text-anchor=\"middle\" x=\"631.5\" y=\"-171.8\" font-family=\"Helvetica,sans-Serif\" font-size=\"14.00\">Age &lt;= 44.5</text>\r\n<text text-anchor=\"middle\" x=\"631.5\" y=\"-156.8\" font-family=\"Helvetica,sans-Serif\" font-size=\"14.00\">entropy = 0.892</text>\r\n<text text-anchor=\"middle\" x=\"631.5\" y=\"-141.8\" font-family=\"Helvetica,sans-Serif\" font-size=\"14.00\">samples = 55</text>\r\n<text text-anchor=\"middle\" x=\"631.5\" y=\"-126.8\" font-family=\"Helvetica,sans-Serif\" font-size=\"14.00\">value = [17, 38]</text>\r\n<text text-anchor=\"middle\" x=\"631.5\" y=\"-111.8\" font-family=\"Helvetica,sans-Serif\" font-size=\"14.00\">class = good</text>\r\n</g>\r\n<!-- 8&#45;&gt;9 -->\r\n<g id=\"edge9\" class=\"edge\">\r\n<title>8&#45;&gt;9</title>\r\n<path fill=\"none\" stroke=\"black\" d=\"M631.5,-222.91C631.5,-214.65 631.5,-205.86 631.5,-197.3\"/>\r\n<polygon fill=\"black\" stroke=\"black\" points=\"635,-197.02 631.5,-187.02 628,-197.02 635,-197.02\"/>\r\n</g>\r\n<!-- 12 -->\r\n<g id=\"node13\" class=\"node\">\r\n<title>12</title>\r\n<path fill=\"#4ba6e7\" stroke=\"black\" d=\"M908,-187C908,-187 749,-187 749,-187 743,-187 737,-181 737,-175 737,-175 737,-116 737,-116 737,-110 743,-104 749,-104 749,-104 908,-104 908,-104 914,-104 920,-110 920,-116 920,-116 920,-175 920,-175 920,-181 914,-187 908,-187\"/>\r\n<text text-anchor=\"middle\" x=\"828.5\" y=\"-171.8\" font-family=\"Helvetica,sans-Serif\" font-size=\"14.00\">CreditHistory_critical &lt;= 0.5</text>\r\n<text text-anchor=\"middle\" x=\"828.5\" y=\"-156.8\" font-family=\"Helvetica,sans-Serif\" font-size=\"14.00\">entropy = 0.413</text>\r\n<text text-anchor=\"middle\" x=\"828.5\" y=\"-141.8\" font-family=\"Helvetica,sans-Serif\" font-size=\"14.00\">samples = 301</text>\r\n<text text-anchor=\"middle\" x=\"828.5\" y=\"-126.8\" font-family=\"Helvetica,sans-Serif\" font-size=\"14.00\">value = [25, 276]</text>\r\n<text text-anchor=\"middle\" x=\"828.5\" y=\"-111.8\" font-family=\"Helvetica,sans-Serif\" font-size=\"14.00\">class = good</text>\r\n</g>\r\n<!-- 8&#45;&gt;12 -->\r\n<g id=\"edge12\" class=\"edge\">\r\n<title>8&#45;&gt;12</title>\r\n<path fill=\"none\" stroke=\"black\" d=\"M699.85,-222.91C716.5,-213.02 734.43,-202.37 751.46,-192.25\"/>\r\n<polygon fill=\"black\" stroke=\"black\" points=\"753.46,-195.14 760.27,-187.02 749.89,-189.12 753.46,-195.14\"/>\r\n</g>\r\n<!-- 10 -->\r\n<g id=\"node11\" class=\"node\">\r\n<title>10</title>\r\n<path fill=\"#b6dbf5\" stroke=\"black\" d=\"M621,-68C621,-68 534,-68 534,-68 528,-68 522,-62 522,-56 522,-56 522,-12 522,-12 522,-6 528,0 534,0 534,0 621,0 621,0 627,0 633,-6 633,-12 633,-12 633,-56 633,-56 633,-62 627,-68 621,-68\"/>\r\n<text text-anchor=\"middle\" x=\"577.5\" y=\"-52.8\" font-family=\"Helvetica,sans-Serif\" font-size=\"14.00\">entropy = 0.962</text>\r\n<text text-anchor=\"middle\" x=\"577.5\" y=\"-37.8\" font-family=\"Helvetica,sans-Serif\" font-size=\"14.00\">samples = 44</text>\r\n<text text-anchor=\"middle\" x=\"577.5\" y=\"-22.8\" font-family=\"Helvetica,sans-Serif\" font-size=\"14.00\">value = [17, 27]</text>\r\n<text text-anchor=\"middle\" x=\"577.5\" y=\"-7.8\" font-family=\"Helvetica,sans-Serif\" font-size=\"14.00\">class = good</text>\r\n</g>\r\n<!-- 9&#45;&gt;10 -->\r\n<g id=\"edge10\" class=\"edge\">\r\n<title>9&#45;&gt;10</title>\r\n<path fill=\"none\" stroke=\"black\" d=\"M611.39,-103.73C607.16,-95.15 602.69,-86.09 598.44,-77.46\"/>\r\n<polygon fill=\"black\" stroke=\"black\" points=\"601.48,-75.72 593.92,-68.3 595.21,-78.82 601.48,-75.72\"/>\r\n</g>\r\n<!-- 11 -->\r\n<g id=\"node12\" class=\"node\">\r\n<title>11</title>\r\n<path fill=\"#399de5\" stroke=\"black\" d=\"M740,-68C740,-68 663,-68 663,-68 657,-68 651,-62 651,-56 651,-56 651,-12 651,-12 651,-6 657,0 663,0 663,0 740,0 740,0 746,0 752,-6 752,-12 752,-12 752,-56 752,-56 752,-62 746,-68 740,-68\"/>\r\n<text text-anchor=\"middle\" x=\"701.5\" y=\"-52.8\" font-family=\"Helvetica,sans-Serif\" font-size=\"14.00\">entropy = 0.0</text>\r\n<text text-anchor=\"middle\" x=\"701.5\" y=\"-37.8\" font-family=\"Helvetica,sans-Serif\" font-size=\"14.00\">samples = 11</text>\r\n<text text-anchor=\"middle\" x=\"701.5\" y=\"-22.8\" font-family=\"Helvetica,sans-Serif\" font-size=\"14.00\">value = [0, 11]</text>\r\n<text text-anchor=\"middle\" x=\"701.5\" y=\"-7.8\" font-family=\"Helvetica,sans-Serif\" font-size=\"14.00\">class = good</text>\r\n</g>\r\n<!-- 9&#45;&gt;11 -->\r\n<g id=\"edge11\" class=\"edge\">\r\n<title>9&#45;&gt;11</title>\r\n<path fill=\"none\" stroke=\"black\" d=\"M657.57,-103.73C663.16,-94.97 669.09,-85.7 674.71,-76.91\"/>\r\n<polygon fill=\"black\" stroke=\"black\" points=\"677.78,-78.61 680.21,-68.3 671.88,-74.84 677.78,-78.61\"/>\r\n</g>\r\n<!-- 13 -->\r\n<g id=\"node14\" class=\"node\">\r\n<title>13</title>\r\n<path fill=\"#56abe9\" stroke=\"black\" d=\"M875,-68C875,-68 782,-68 782,-68 776,-68 770,-62 770,-56 770,-56 770,-12 770,-12 770,-6 776,0 782,0 782,0 875,0 875,0 881,0 887,-6 887,-12 887,-12 887,-56 887,-56 887,-62 881,-68 875,-68\"/>\r\n<text text-anchor=\"middle\" x=\"828.5\" y=\"-52.8\" font-family=\"Helvetica,sans-Serif\" font-size=\"14.00\">entropy = 0.553</text>\r\n<text text-anchor=\"middle\" x=\"828.5\" y=\"-37.8\" font-family=\"Helvetica,sans-Serif\" font-size=\"14.00\">samples = 179</text>\r\n<text text-anchor=\"middle\" x=\"828.5\" y=\"-22.8\" font-family=\"Helvetica,sans-Serif\" font-size=\"14.00\">value = [23, 156]</text>\r\n<text text-anchor=\"middle\" x=\"828.5\" y=\"-7.8\" font-family=\"Helvetica,sans-Serif\" font-size=\"14.00\">class = good</text>\r\n</g>\r\n<!-- 12&#45;&gt;13 -->\r\n<g id=\"edge13\" class=\"edge\">\r\n<title>12&#45;&gt;13</title>\r\n<path fill=\"none\" stroke=\"black\" d=\"M828.5,-103.73C828.5,-95.52 828.5,-86.86 828.5,-78.56\"/>\r\n<polygon fill=\"black\" stroke=\"black\" points=\"832,-78.3 828.5,-68.3 825,-78.3 832,-78.3\"/>\r\n</g>\r\n<!-- 14 -->\r\n<g id=\"node15\" class=\"node\">\r\n<title>14</title>\r\n<path fill=\"#3c9fe5\" stroke=\"black\" d=\"M1004,-68C1004,-68 917,-68 917,-68 911,-68 905,-62 905,-56 905,-56 905,-12 905,-12 905,-6 911,0 917,0 917,0 1004,0 1004,0 1010,0 1016,-6 1016,-12 1016,-12 1016,-56 1016,-56 1016,-62 1010,-68 1004,-68\"/>\r\n<text text-anchor=\"middle\" x=\"960.5\" y=\"-52.8\" font-family=\"Helvetica,sans-Serif\" font-size=\"14.00\">entropy = 0.121</text>\r\n<text text-anchor=\"middle\" x=\"960.5\" y=\"-37.8\" font-family=\"Helvetica,sans-Serif\" font-size=\"14.00\">samples = 122</text>\r\n<text text-anchor=\"middle\" x=\"960.5\" y=\"-22.8\" font-family=\"Helvetica,sans-Serif\" font-size=\"14.00\">value = [2, 120]</text>\r\n<text text-anchor=\"middle\" x=\"960.5\" y=\"-7.8\" font-family=\"Helvetica,sans-Serif\" font-size=\"14.00\">class = good</text>\r\n</g>\r\n<!-- 12&#45;&gt;14 -->\r\n<g id=\"edge14\" class=\"edge\">\r\n<title>12&#45;&gt;14</title>\r\n<path fill=\"none\" stroke=\"black\" d=\"M877.65,-103.73C889.09,-94.24 901.24,-84.16 912.62,-74.72\"/>\r\n<polygon fill=\"black\" stroke=\"black\" points=\"914.9,-77.38 920.36,-68.3 910.43,-71.99 914.9,-77.38\"/>\r\n</g>\r\n</g>\r\n</svg>\r\n"
     },
     "execution_count": 17,
     "metadata": {},
     "output_type": "execute_result"
    }
   ],
   "source": [
    "dot_data = export_graphviz(dt, out_file=None, \n",
    "    feature_names=column_names,  \n",
    "    class_names=sorted(credit_clean['Approve'].unique()),  \n",
    "    filled=True, rounded=True,  \n",
    "    special_characters=False)\n",
    "graph = graphviz.Source(dot_data)\n",
    "graph"
   ]
  },
  {
   "cell_type": "markdown",
   "metadata": {},
   "source": [
    "An alternative way to visualise the tree is to open the output .dot file with an editor such as [this online .dot renderer](http://dreampuf.github.io/GraphvizOnline/). You can use the code below to create a dot-file and then copy and paste its contents into the online site (you can double click on the tree once it has been produced to view it in full screen)."
   ]
  },
  {
   "cell_type": "code",
   "execution_count": 18,
   "metadata": {},
   "outputs": [],
   "source": [
    "with open(\"tree.dot\", 'w') as f:\n",
    "    f = export_graphviz(dt, out_file=f,\n",
    "                        feature_names=column_names,  \n",
    "                        class_names=credit_clean['Approve'].unique(),  \n",
    "                        filled=True, rounded=True,  \n",
    "                        special_characters=False)"
   ]
  },
  {
   "cell_type": "markdown",
   "metadata": {},
   "source": [
    "### ========== Question 1.13 ==========\n",
    "Inspect the tree and\n",
    " 1. describe what it shows, explaining how you interpret any one-hot encoded data\n",
    " 1. indicate which is the attribute with the highest information gain."
   ]
  },
  {
   "cell_type": "markdown",
   "metadata": {},
   "source": [
    "***Student needs to answer similar to below:***\n",
    "\n",
    "TODO\n",
    "\n",
    "The tree branches first on the CheckingAccount value, specifically whether the user has a checking account or not (since it is based on `_none` encoding, and the others all are checking account values. \n",
    "\n",
    "\n",
    "Below is a png of the tree produced. It shows that we will classify a loan as `bad` if the `CheckingAccount in (2, 3)` i.e. is '>=200' or 'none', and even worse if `OtherPlans in (1, 2)` i.e. is 'none' or 'stores'.\n",
    "\n",
    "The attribute with highest information gain is the one at the top of the tree - `CheckingAccount`. Its critical value is 1.5. To trace back the original values we have to make use of the associated LabelEncoder.\n"
   ]
  },
  {
   "cell_type": "markdown",
   "metadata": {},
   "source": [
    "### ========== Question 1.14 ==========\n",
    "Tree-based estimators (i.e. decision trees and random forests) can be used to compute feature importances. The importance of a feature is computed as the (normalized) total reduction of entropy (or other used `criterion`) brought by that feature. Find the relevant attributes of the classifier you just trained (i.e. those which are actually used in this short tree) and display feature importances along with their names."
   ]
  },
  {
   "cell_type": "code",
   "execution_count": 19,
   "metadata": {},
   "outputs": [
    {
     "name": "stdout",
     "output_type": "stream",
     "text": [
      "Importance of feature Duration:, 0.117\n",
      "Importance of feature Age:, 0.046\n",
      "Importance of feature CheckingAccount_<0:, 0.094\n",
      "Importance of feature CheckingAccount_none:, 0.524\n",
      "Importance of feature CreditHistory_critical:, 0.072\n",
      "Importance of feature CreditHistory_ok_at_this_bank:, 0.058\n",
      "Importance of feature OtherPlans_none:, 0.089\n"
     ]
    }
   ],
   "source": [
    "# Student needs to provide code similar to below\n",
    "for i, column in enumerate(column_names):\n",
    "    if dt.feature_importances_[i] > 0:\n",
    "        print('Importance of feature {}:, {:.3f}'.format(column, dt.feature_importances_[i]))\n"
   ]
  },
  {
   "cell_type": "markdown",
   "metadata": {},
   "source": [
    "### ========== Question 1.15 ==========\n",
    "Now we want to evaluate the performance of the classifier on unseen data. Use the trained model to predict the target variables for the test data set. Display the classification accuracy for both the training and test data sets. What do you observe? Are you surprised by the results?"
   ]
  },
  {
   "cell_type": "code",
   "execution_count": 20,
   "metadata": {},
   "outputs": [
    {
     "name": "stdout",
     "output_type": "stream",
     "text": [
      "Classification accuracy on training set: 0.738\n",
      "Classification accuracy on test set: 0.610\n"
     ]
    }
   ],
   "source": [
    "# Student needs to provide code similar to below\n",
    "prediction_train = dt.predict(X=X_train)\n",
    "prediction_test = dt.predict(X=X_test)\n",
    "print('Classification accuracy on training set: {:.3f}'.format(accuracy_score(y_train,prediction_train)))\n",
    "print('Classification accuracy on test set: {:.3f}'.format(accuracy_score(y_test,prediction_test)))\n"
   ]
  },
  {
   "cell_type": "markdown",
   "metadata": {},
   "source": [
    "***Student needs to answer similar to below:***\n",
    "\n",
    "The decision tree classifier is (probably) not overfitting. The classification accuracy is similar for training and test. The decision tree has provided a very simple way to interpret the data - splitting it into 8 bins and applying a class to each bin. Clearly this is an oversimplification: even in the training data, the leaves of the tree contain many examples of the 'incorrect' class."
   ]
  },
  {
   "cell_type": "markdown",
   "metadata": {},
   "source": [
    "**However, the very astute will make an observation:** *Hint: Have a look at the class distribution in the dataset.*"
   ]
  },
  {
   "cell_type": "code",
   "execution_count": 21,
   "metadata": {},
   "outputs": [
    {
     "data": {
      "text/plain": "<Figure size 576x288 with 2 Axes>",
      "image/png": "[encoded data removed]"
     },
     "metadata": {
      "needs_background": "light"
     },
     "output_type": "display_data"
    }
   ],
   "source": [
    "fig, (ax1, ax2) = plt.subplots(1,2, figsize=(8,4))\n",
    "sns.countplot(x=y_train, ax=ax1)\n",
    "ax1.set_title('Training set', size=12)\n",
    "ax1.set_xlabel(' ')\n",
    "sns.countplot(x=y_test, ax=ax2)\n",
    "ax2.set_xlabel(' ')\n",
    "ax2.set_ylabel('')\n",
    "ax2.set_title('Validation set', size=12)\n",
    "fig.suptitle('Target distribution', size=12)\n",
    "plt.show()"
   ]
  },
  {
   "cell_type": "markdown",
   "metadata": {},
   "source": [
    "The dummy classifier of predicting everything as 'good' **will beat this model (75% accuracy on Validation Set)!** In other words, our model is worse than the baseline. **Always compare your models with very simple baselines**."
   ]
  },
  {
   "cell_type": "markdown",
   "metadata": {},
   "source": [
    "### ========== Question 1.16 ==========\n",
    "\n",
    "Fit another `DecisionTreeClassifier` but this time grow it to full depth (i.e. remove the max_depth condition). Again, use a `random_state=1000`. Display the classification accuracy for training and test data as above. Again, what do you observe and are you surprised?"
   ]
  },
  {
   "cell_type": "code",
   "execution_count": 22,
   "metadata": {},
   "outputs": [
    {
     "name": "stdout",
     "output_type": "stream",
     "text": [
      "Classification accuracy on training set: 1.000\n",
      "Classification accuracy on test set: 0.670\n"
     ]
    }
   ],
   "source": [
    "# Student needs to provide code similar to below\n",
    "dt_fulldepth = DecisionTreeClassifier(criterion='entropy', random_state=1000)\n",
    "dt_fulldepth.fit(X_train, y_train)\n",
    "prediction_train2 = dt_fulldepth.predict(X=X_train)\n",
    "prediction_test2 = dt_fulldepth.predict(X=X_test)\n",
    "print('Classification accuracy on training set: {:.3f}'.format(accuracy_score(y_train,prediction_train2)))\n",
    "print('Classification accuracy on test set: {:.3f}'.format(accuracy_score(y_test,prediction_test2)))\n"
   ]
  },
  {
   "cell_type": "markdown",
   "metadata": {},
   "source": [
    "***Student needs to answer similar to below:***\n",
    "\n",
    "This is a classic case of overfitting. The tree is allowed to grow to full depth and perfectly fit the training data. The result is that the test accuracy is much lower than the train; in fact it is only slightly more accurate than the very simple depth 3 tree! It's important to note that, when grown to full depth, decision tree classifiers can perfectly separate the training data (if no two datapoints are identical but have different classes). Performance on unseen data is likely to be much lower however.\n"
   ]
  },
  {
   "cell_type": "markdown",
   "metadata": {},
   "source": [
    "### ========== Question 1.17 ==========\n",
    "By using seaborn's heatmap function, plot the normalised confusion matrices for both the training and test data sets **for the max_depth=3 decision tree from question 1.12**. Make sure you label axes appropriately. *Hint: You can make use of the `plot_confusion_matrix` function introduced in a previous lab, reproduced below.*"
   ]
  },
  {
   "cell_type": "code",
   "execution_count": 23,
   "metadata": {},
   "outputs": [],
   "source": [
    "def plot_confusion_matrix(cm, classes=None, title='Confusion matrix'):\n",
    "    \"\"\"Plots a confusion matrix.\"\"\"\n",
    "    if classes is not None:\n",
    "        sns.heatmap(cm, xticklabels=classes, yticklabels=classes, vmin=0., vmax=1., annot=True)\n",
    "    else:\n",
    "        sns.heatmap(cm, vmin=0., vmax=1.)\n",
    "    plt.title(title)\n",
    "    plt.ylabel('True label')\n",
    "    plt.xlabel('Predicted label')"
   ]
  },
  {
   "cell_type": "code",
   "execution_count": 24,
   "metadata": {},
   "outputs": [
    {
     "data": {
      "text/plain": "<Figure size 432x288 with 2 Axes>",
      "image/png": "[encoded data removed]"
     },
     "metadata": {
      "needs_background": "light"
     },
     "output_type": "display_data"
    }
   ],
   "source": [
    "# Normalised Data\n",
    "\n",
    "# Student needs to provide code similar to below\n",
    "cm = confusion_matrix(y_train, prediction_train)\n",
    "cm_norm = cm/cm.sum(axis=1)[:, np.newaxis]\n",
    "plt.figure()\n",
    "plot_confusion_matrix(cm_norm, classes=dt.classes_, title='Training confusion')\n"
   ]
  },
  {
   "cell_type": "code",
   "execution_count": 25,
   "metadata": {},
   "outputs": [
    {
     "data": {
      "text/plain": "<Figure size 432x288 with 2 Axes>",
      "image/png": "[encoded data removed]"
     },
     "metadata": {
      "needs_background": "light"
     },
     "output_type": "display_data"
    }
   ],
   "source": [
    "# Validation Data\n",
    "\n",
    "# Student needs to provide code similar to below\n",
    "cm = confusion_matrix(y_test, prediction_test)\n",
    "cm_norm = cm/cm.sum(axis=1)[:, np.newaxis]\n",
    "plt.figure()\n",
    "plot_confusion_matrix(cm_norm, classes=dt.classes_, title='Test confusion')\n"
   ]
  },
  {
   "cell_type": "markdown",
   "metadata": {},
   "source": [
    "**N.B. it will be obvious if you have plotted the full depth decision tree as the training confusion matrix will be the identity**"
   ]
  },
  {
   "cell_type": "markdown",
   "metadata": {},
   "source": [
    "### ========== Question 1.18 ==========\n",
    "\n",
    "Finally we will create a [`Random decision forest`](http://scikit-learn.org/0.24/modules/generated/sklearn.ensemble.RandomForestClassifier.html) classifier and compare the performance of this classifier to that of the decision tree. The random decision forest is an ensemble classifier that consists of many decision trees and outputs the class that is the mode of the class's output by individual trees. Start with `n_estimators = 100`, use the `entropy` criterion and the same train/test split as before. Plot the classification accuracy of the random forest model on the test set and show the confusion matrix. How does the random decision forest compare performance wise to the decision tree?"
   ]
  },
  {
   "cell_type": "code",
   "execution_count": null,
   "metadata": {
    "pycharm": {
     "is_executing": true
    }
   },
   "outputs": [],
   "source": [
    "# Student needs to provide code similar to below\n",
    "rf = RandomForestClassifier(n_estimators=100, criterion='entropy')\n",
    "rf.fit(X_train, y_train)\n",
    "prediction_test = rf.predict(X=X_test)\n",
    "print('Classification accuracy on test set: {:.3f}'.format(accuracy_score(y_test,prediction_test)))\n",
    "cm = confusion_matrix(y_test, prediction_test)\n",
    "cm_norm = cm/cm.sum(axis=1)[:, np.newaxis]\n",
    "plt.figure()\n",
    "plot_confusion_matrix(cm_norm, classes=rf.classes_)\n"
   ]
  },
  {
   "cell_type": "markdown",
   "metadata": {},
   "source": [
    "### ========== Question 1.19 ==========\n",
    "How high can you get the performance of the classifier by changing the max depth of the trees (`max_depth`), or the `max_features` parameters? Try a few values just to get a look. *Don't do a grid search or anything in-depth, just get a feel*. Try the same settings twice...do you get the same accuracy?"
   ]
  },
  {
   "cell_type": "code",
   "execution_count": null,
   "metadata": {
    "pycharm": {
     "is_executing": true
    }
   },
   "outputs": [],
   "source": [
    "# Student needs to provide code similar to below\n",
    "from itertools import product\n",
    "n_estimators = 500\n",
    "max_features = [1, 'sqrt', 'log2']\n",
    "max_depths = [None, 2, 5, 10]\n",
    "for f, d in product(max_features, max_depths): # with product we can iterate through all possible combinations\n",
    "    rf = RandomForestClassifier(n_estimators=n_estimators, \n",
    "                                criterion='entropy', \n",
    "                                max_features=f, \n",
    "                                max_depth=d, \n",
    "                                n_jobs=2,\n",
    "                                random_state=1337)\n",
    "    rf.fit(X_train, y_train)\n",
    "    prediction_test = rf.predict(X=X_test)\n",
    "    print('Classification accuracy on test set with max features = {} and max_depth = {}: {:.3f}'.format(f, d, accuracy_score(y_test,prediction_test)))\n",
    "    cm = confusion_matrix(y_test, prediction_test)\n",
    "    cm_norm = cm/cm.sum(axis=1)[:, np.newaxis]\n",
    "    plt.figure()\n",
    "    plot_confusion_matrix(cm_norm, classes=rf.classes_, title='Confusion matrix accuracy on test set with max features = {} and max_depth = {}: {:.3f}'.format(f, d, accuracy_score(y_test,prediction_test)))\n"
   ]
  },
  {
   "cell_type": "markdown",
   "metadata": {},
   "source": [
    "N.B. Observing these confusion matrices you'll see something very important - for some configurations, the Random Forest **always predicts the majority class**: incidentally these are also the cases which do the best. This highlights (again) the importance of always checking performance against a dummy classifier!!!\n",
    "\n",
    "Additionally, if you want to reproduce your results, you must set the random seed (you can do this with the `random_state` argument). Random forests are...random!"
   ]
  },
  {
   "cell_type": "markdown",
   "metadata": {},
   "source": [
    "### ========== Question 1.20 ==========\n",
    "Compare the feature importances as estimated with the decision tree and random forest classifiers."
   ]
  },
  {
   "cell_type": "code",
   "execution_count": null,
   "metadata": {
    "pycharm": {
     "is_executing": true
    }
   },
   "outputs": [],
   "source": [
    "# Student needs to provide code similar to below\n",
    "rf = RandomForestClassifier(n_estimators=500, \n",
    "                            criterion='entropy', \n",
    "                            max_features=1, \n",
    "                            max_depth=10, \n",
    "                            n_jobs=2)\n",
    "rf.fit(X_train, y_train)\n",
    "_, ax1 = plt.subplots(1, 1, figsize=(16,6))\n",
    "xx = np.arange(len(dt.feature_importances_))\n",
    "ax1.bar(xx, dt.feature_importances_)\n",
    "ax1.set_xticks(xx)\n",
    "ax1.set_xticklabels(column_names, rotation='vertical')\n",
    "ax1.set_title('Decision tree depth 3 importances')\n",
    "plt.show()\n",
    "\n",
    "_, ax2 = plt.subplots(1, 1, figsize=(16,6))\n",
    "ax2.bar(xx, rf.feature_importances_)\n",
    "ax2.set_xticks(xx)\n",
    "ax2.set_xticklabels(column_names, rotation='vertical')\n",
    "ax2.set_title('Random forest max features=1 , max depth=10')\n",
    "plt.show()\n",
    "\n",
    "for i, column in enumerate(column_names):\n",
    "    if dt.feature_importances_[i] > 0 or rf.feature_importances_[i]:\n",
    "        print('Importance of feature {}, DT: {:.3f}, RF: {:.3f}'.format(column, dt.feature_importances_[i], rf.feature_importances_[i]))\n"
   ]
  },
  {
   "cell_type": "markdown",
   "metadata": {},
   "source": [
    "## 2. Linear regression\n",
    "In the second part of the lab we use the [CPU performance](https://archive.ics.uci.edu/ml/datasets/Computer+Hardware) dataset for a simple regression task. Famliarise yourself with the dataset before moving on to the next step. Note that the version we will be using is missing the `Model Name` and `PRP` attributes. Our task will be to use the remaining attributes to predict `ERP` values.\n",
    "\n",
    "Download the dataset and save it in a directory called `datasets` in the same folder that your notebooks live. Alternatively, you can save the dataset in any folder you wish and modify the `data_path` variable below accordingly. We will load our data into a pandas DataFrame structure. "
   ]
  },
  {
   "cell_type": "code",
   "execution_count": null,
   "metadata": {
    "pycharm": {
     "is_executing": true
    }
   },
   "outputs": [],
   "source": [
    "# Load the dataset\n",
    "data_path = os.path.join(os.getcwd(), 'datasets', 'cpu.csv')\n",
    "cpu = pd.read_csv(data_path, delimiter = ',')"
   ]
  },
  {
   "cell_type": "markdown",
   "metadata": {},
   "source": [
    "### ========== Question 2.1 ==========\n",
    "Display the number of data points and attributes in the dataset. "
   ]
  },
  {
   "cell_type": "code",
   "execution_count": null,
   "metadata": {
    "pycharm": {
     "is_executing": true
    }
   },
   "outputs": [],
   "source": [
    "# Student needs to provide code similar to below\n",
    "print('Number of samples: {}, number of attributes: {}'.format(cpu.shape[0], cpu.shape[1]))\n"
   ]
  },
  {
   "cell_type": "markdown",
   "metadata": {},
   "source": [
    "### ========== Question 2.2 ==========\n",
    "Get a feeling of the data by using pandas `describe()` method. "
   ]
  },
  {
   "cell_type": "code",
   "execution_count": null,
   "metadata": {
    "pycharm": {
     "is_executing": true
    }
   },
   "outputs": [],
   "source": [
    "# Student needs to provide code similar to below\n",
    "cpu.describe()\n"
   ]
  },
  {
   "cell_type": "markdown",
   "metadata": {},
   "source": [
    "### ========== Question 2.3 ==========\n",
    "Display the first 10 data points of the dataset"
   ]
  },
  {
   "cell_type": "code",
   "execution_count": null,
   "metadata": {
    "pycharm": {
     "is_executing": true
    }
   },
   "outputs": [],
   "source": [
    "# Student needs to provide code similar to below\n",
    "cpu.head(10)\n"
   ]
  },
  {
   "cell_type": "markdown",
   "metadata": {},
   "source": [
    "### ========== Question 2.4 ========== \n",
    "You might have noticed that the `vendor` attribute is categorical. This will give problems when using a linear regression model. For now we can simply remove this attribute. Create a new DataFrame called `cpu_clean` by copying `cpu` but omit the `vendor` attribute. Display the number of samples and attributes in the clean dataset as a sanity check."
   ]
  },
  {
   "cell_type": "code",
   "execution_count": null,
   "metadata": {
    "pycharm": {
     "is_executing": true
    }
   },
   "outputs": [],
   "source": [
    "# Student needs to provide code similar to below\n",
    "cpu_clean = cpu.copy(deep=True)\n",
    "cpu_clean=cpu_clean.drop('vendor', axis=1)\n",
    "print('Clean dataset, number of samples: {}, number of attributes: {}'.format(cpu_clean.shape[0], cpu_clean.shape[1]))\n"
   ]
  },
  {
   "cell_type": "markdown",
   "metadata": {},
   "source": [
    "### ========== Question 2.5 ==========\n",
    "Now -as always- we want to perform some exploratory data analysis. Remember that our task is to predict `ERP` values, so it's a good idea to inspect individual scatter plots of the target variable (`ERP`) against our input features. For this purpose we will use once again seaborn's pairplot implementation.\n",
    "\n",
    "Create a series of [pairplots](https://seaborn.github.io/generated/seaborn.pairplot.html?highlight=pairplot#seaborn.pairplot) showing the pairwise relationship of `ERP` and the remaining attributes in the data. You can do so by specifying explicitly the `x_vars` and `y_vars` input arguments in the pairplot. *Hnt: Your final plot will consist of 6 subplots each contaning a scatter plot.*"
   ]
  },
  {
   "cell_type": "code",
   "execution_count": null,
   "metadata": {
    "pycharm": {
     "is_executing": true
    }
   },
   "outputs": [],
   "source": [
    "# Student needs to provide code similar to below\n",
    "g2 = sns.pairplot(data=cpu, x_vars=['MYCT', 'MMIN', 'MMAX', 'CACH', 'CHMIN', 'CHMAX'], y_vars = 'ERP', height=3)\n"
   ]
  },
  {
   "cell_type": "markdown",
   "metadata": {},
   "source": [
    "### ========== Question 2.6 ==========\n",
    "* Do you think that ERP should be at least partially predictable from the input attributes?\n",
    "* Do any attributes exhibit significant correlations?"
   ]
  },
  {
   "cell_type": "markdown",
   "metadata": {},
   "source": [
    "***Student needs to answer similar to below:***\n",
    "\n",
    "Yes, it seems that some input features are positively correlated with the target variable so it should be possible to partially predict it. The `MMIN` and `MMAX` features appear to exhibit the strongest correlations. On the other hand, the `MYCT` exhibits a strongly nonlinear negative correlation.\n",
    "\n"
   ]
  },
  {
   "cell_type": "markdown",
   "metadata": {},
   "source": [
    "### ========== Question 2.7 ==========\n",
    "Now we have a feel for the data and we will try fitting a simple linear regression model. Similarly to what we did in the first part of the lab, we want to use cross-validation to evaluate the goodness of the fit.\n",
    "\n",
    "By using the `cpu_clean` dataset extract the raw values for the input features and the target variable and store them in two matrices, called `X` and `y` respectively. \n",
    "\n",
    "Then, split the dataset into training and testing sets by using a 75%-25% split (training/testing).\n",
    "\n",
    "Display the shapes of all matrices involved and double-check that all dimensionalities appear to be as expected."
   ]
  },
  {
   "cell_type": "code",
   "execution_count": null,
   "metadata": {
    "pycharm": {
     "is_executing": true
    }
   },
   "outputs": [],
   "source": [
    "# Student needs to provide code similar to below\n",
    "X = cpu_clean.drop('ERP', axis=1).values\n",
    "y = cpu_clean['ERP'].values\n",
    "\n",
    "X_train, X_test, y_train, y_test = train_test_split(X, y, train_size=0.75, test_size=0.25, random_state=0)\n",
    "\n",
    "print('Number of instances in X: {}'.format(np.shape(X)[0]))\n",
    "print('Number of instances in X_train: {}'.format(X_train.shape[0]))\n",
    "print('Number of instances in X_test: {}'.format(X_test.shape[0]))\n",
    "print('Number of instances in X_train and X_test together: {}'.format(X_train.shape[0] + X_test.shape[0]))\n"
   ]
  },
  {
   "cell_type": "markdown",
   "metadata": {},
   "source": [
    "### ========== Question 2.8 ==========\n",
    "Fit a simple linear regressor by using the [`LinearRegression`](http://scikit-learn.org/0.24/modules/generated/sklearn.linear_model.LinearRegression.html) model in Scikit-learn. Report the training accuracy by using the `score` attribute. What does this represent?"
   ]
  },
  {
   "cell_type": "code",
   "execution_count": null,
   "metadata": {
    "pycharm": {
     "is_executing": true
    }
   },
   "outputs": [],
   "source": [
    "# Student needs to provide code similar to below\n",
    "lm = LinearRegression(fit_intercept=True, normalize=True, copy_X=True)\n",
    "lm.fit(X_train, y_train)\n",
    "print('Training accuracy: {:.3f}'.format(lm.score(X_train, y_train)))\n"
   ]
  },
  {
   "cell_type": "markdown",
   "metadata": {},
   "source": [
    "***Student needs to answer similar to below:***\n",
    "\n",
    "The accuracy score represents the coefficient of determination ($R^2$). This is at max 1, but can be negative. It will be 0 if you predict the mean of y for all observations.\n",
    "\n"
   ]
  },
  {
   "cell_type": "markdown",
   "metadata": {},
   "source": [
    "### ========== Question 2.9 ==========\n",
    "Now report the testing accuracy by using the `score` attribute of the regressor as well as the `r2_score` metric. Confirm that these two yield identical results.\n",
    "\n",
    "How does the accuracy compare to the one reported on the training dataset? Do you think that your model does well on generalising on unseen data? "
   ]
  },
  {
   "cell_type": "code",
   "execution_count": null,
   "metadata": {
    "pycharm": {
     "is_executing": true
    }
   },
   "outputs": [],
   "source": [
    "# Student needs to provide code similar to below\n",
    "print('Testing accuracy by using score function: {:.3f}'.format(lm.score(X_test, y_test)))\n",
    "print('Testing accuracy by using r2_score meric: {:.3f}'.format(r2_score(y_test, lm.predict(X_test))))\n"
   ]
  },
  {
   "cell_type": "markdown",
   "metadata": {},
   "source": [
    "***Student needs to answer similar to below:***\n",
    "\n",
    "The accuracy on the test dataset is very similar to the training accuracy. From that we can conclude that the model has not overfitted the training data.\n",
    "\n"
   ]
  },
  {
   "cell_type": "markdown",
   "metadata": {},
   "source": [
    "### ========== Question 2.10 ==========\n",
    "Now we want to get a feel for how good the fit is, so we wil plot the measured values against the predicted ones. Make use of the function provided below which takes as input arguments the measured (`y_true`) and predicted (`y_pred`) values of a target variable and produces a scatter plot for the two by also including a straight line going through the origin. \n",
    "\n",
    "Where would you expect the points to be for a perfect fit?"
   ]
  },
  {
   "cell_type": "code",
   "execution_count": null,
   "metadata": {
    "pycharm": {
     "is_executing": true
    }
   },
   "outputs": [],
   "source": [
    "def fit_scatter(y_true, y_pred):\n",
    "    assert y_true.shape == y_pred.shape\n",
    "    fig, ax = plt.subplots()\n",
    "    ax.scatter(y_true, y_pred)\n",
    "    ax.plot([y_true.min(), y_true.max()], [y_true.min(), y_true.max()], 'k--', lw=4)\n",
    "    ax.set_xlabel('Measured')\n",
    "    ax.set_ylabel('Predicted')"
   ]
  },
  {
   "cell_type": "code",
   "execution_count": null,
   "metadata": {
    "pycharm": {
     "is_executing": true
    }
   },
   "outputs": [],
   "source": [
    "# Student needs to provide code similar to below\n",
    "prediction = lm.predict(X_test)\n",
    "fit_scatter(y_test, prediction)\n"
   ]
  },
  {
   "cell_type": "markdown",
   "metadata": {},
   "source": [
    "***Student needs to answer similar to below:***\n",
    "\n",
    "If the fit was perfect all the points would be sitting on the straight line going through the origin.\n",
    "\n"
   ]
  },
  {
   "cell_type": "markdown",
   "metadata": {},
   "source": [
    "### ========== Question 2.11 ==========\n",
    "Another way of assessing the performance of the model is to inspect the distribution of the errors. Make a histogram plot by using seaborn's `distplot` function. This will also show an estimate of the underlying distribution.\n",
    "\n",
    "Does it look like the errors are normally distributed? Would you trust the fit of the distribution on the graph? Explain why."
   ]
  },
  {
   "cell_type": "code",
   "execution_count": null,
   "metadata": {
    "pycharm": {
     "is_executing": true
    }
   },
   "outputs": [],
   "source": [
    "# Student needs to provide code similar to below\n",
    "g = sns.histplot(y_test-prediction, kde=True, color=\"b\")\n",
    "sns.rugplot(data=y_test-prediction, color=\"b\")"
   ]
  },
  {
   "cell_type": "markdown",
   "metadata": {},
   "source": [
    "***Student needs to answer similar to below:***\n",
    "\n",
    "We should be very careful before making any judgements since the number of samples is relatively small in this case. However, the errors seem to follow a Gaussian (normal) distribution. There is some evidence to suggest the model is very slightly over predicting more than under predicting (given the skew).\n",
    "\n"
   ]
  },
  {
   "cell_type": "markdown",
   "metadata": {},
   "source": [
    "### ========== Question 2.12 ==========\n",
    "Above we deleted the vendor variable. However, we can use nominal attributes in regression by converting them to numeric, exactly in the same way that we did at the first part of this lab. \n",
    "\n",
    "Now, use the original `cpu` dataset and convert the `vendor` attribute to a numeric one by means of one-hot-encoding. Then train a linear regression model to the data and compare its performance to the one we had previously. Did adding the *binazired vendor* variable help? "
   ]
  },
  {
   "cell_type": "code",
   "execution_count": null,
   "metadata": {
    "pycharm": {
     "is_executing": true
    }
   },
   "outputs": [],
   "source": [
    "# Student needs to provide code similar to below\n",
    "# First extract the Data\n",
    "vendor_1hot = pd.get_dummies(cpu['vendor'])\n",
    "X = pd.concat([cpu.drop(['ERP', 'vendor'], axis=1), vendor_1hot], axis=1).values\n",
    "y = cpu['ERP'].values\n",
    "# Split into Training/Testing\n",
    "X_train, X_test, y_train, y_test = train_test_split(X, y, train_size=0.75, test_size=0.25, random_state=0)\n",
    "# Train & Predict\n",
    "lm = LinearRegression(fit_intercept=True, normalize=True, copy_X=True).fit(X_train,y_train)\n",
    "prediction_new = lm.predict(X_test)\n",
    "print('New accuracy on test set: {:.3f}'.format(lm.score(X_test,y_test)))\n"
   ]
  },
  {
   "cell_type": "markdown",
   "metadata": {},
   "source": [
    "***Student needs to answer similar to below:***\n",
    "\n",
    "Adding the binarized vendor variable reduces the performance on the test set.\n",
    "\n"
   ]
  },
  {
   "cell_type": "code",
   "execution_count": null,
   "metadata": {
    "pycharm": {
     "is_executing": true
    }
   },
   "outputs": [],
   "source": []
  }
 ],
 "metadata": {
  "kernelspec": {
   "name": "pycharm-45500138",
   "language": "python",
   "display_name": "PyCharm (UoE-IAML-Coursework)"
  },
  "language_info": {
   "codemirror_mode": {
    "name": "ipython",
    "version": 3
   },
   "file_extension": ".py",
   "mimetype": "text/x-python",
   "name": "python",
   "nbconvert_exporter": "python",
   "pygments_lexer": "ipython3",
   "version": "3.9.2"
  }
 },
 "nbformat": 4,
 "nbformat_minor": 1
}