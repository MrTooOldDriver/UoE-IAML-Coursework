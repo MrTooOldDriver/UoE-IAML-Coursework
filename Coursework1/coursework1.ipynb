{
 "cells": [
  {
   "cell_type": "code",
   "execution_count": 1,
   "outputs": [],
   "source": [
    "import os\n",
    "import numpy as np\n",
    "import pandas as pd\n",
    "import matplotlib.pyplot as plt\n",
    "import seaborn as sns\n",
    "from sklearn.model_selection import train_test_split\n",
    "from sklearn.linear_model import LinearRegression\n",
    "from sklearn.metrics import r2_score\n",
    "%matplotlib inline"
   ],
   "metadata": {
    "collapsed": false,
    "pycharm": {
     "name": "#%%\n"
    }
   }
  },
  {
   "cell_type": "code",
   "execution_count": 2,
   "metadata": {
    "collapsed": true
   },
   "outputs": [
    {
     "data": {
      "text/plain": "   revision_time  exam_score\n0          2.723      27.682\n1          2.844      22.998\n2          3.303      19.765\n3          3.588      24.481\n4          4.050      22.974",
      "text/html": "<div>\n<style scoped>\n    .dataframe tbody tr th:only-of-type {\n        vertical-align: middle;\n    }\n\n    .dataframe tbody tr th {\n        vertical-align: top;\n    }\n\n    .dataframe thead th {\n        text-align: right;\n    }\n</style>\n<table border=\"1\" class=\"dataframe\">\n  <thead>\n    <tr style=\"text-align: right;\">\n      <th></th>\n      <th>revision_time</th>\n      <th>exam_score</th>\n    </tr>\n  </thead>\n  <tbody>\n    <tr>\n      <th>0</th>\n      <td>2.723</td>\n      <td>27.682</td>\n    </tr>\n    <tr>\n      <th>1</th>\n      <td>2.844</td>\n      <td>22.998</td>\n    </tr>\n    <tr>\n      <th>2</th>\n      <td>3.303</td>\n      <td>19.765</td>\n    </tr>\n    <tr>\n      <th>3</th>\n      <td>3.588</td>\n      <td>24.481</td>\n    </tr>\n    <tr>\n      <th>4</th>\n      <td>4.050</td>\n      <td>22.974</td>\n    </tr>\n  </tbody>\n</table>\n</div>"
     },
     "execution_count": 2,
     "metadata": {},
     "output_type": "execute_result"
    }
   ],
   "source": [
    "data_path = os.path.join(os.getcwd(), 'data', 'regression_part1.csv')\n",
    "regression_dataset = pd.read_csv(data_path, delimiter = ',')\n",
    "regression_dataset.head(5)"
   ]
  },
  {
   "cell_type": "code",
   "execution_count": 3,
   "outputs": [
    {
     "data": {
      "text/plain": "       revision_time  exam_score\ncount      50.000000   50.000000\nmean       22.220020   49.919860\nstd        13.986112   20.925594\nmin         2.723000   14.731000\n25%         8.570500   32.125000\n50%        21.688000   47.830500\n75%        32.257500   65.069750\nmax        48.011000   94.945000",
      "text/html": "<div>\n<style scoped>\n    .dataframe tbody tr th:only-of-type {\n        vertical-align: middle;\n    }\n\n    .dataframe tbody tr th {\n        vertical-align: top;\n    }\n\n    .dataframe thead th {\n        text-align: right;\n    }\n</style>\n<table border=\"1\" class=\"dataframe\">\n  <thead>\n    <tr style=\"text-align: right;\">\n      <th></th>\n      <th>revision_time</th>\n      <th>exam_score</th>\n    </tr>\n  </thead>\n  <tbody>\n    <tr>\n      <th>count</th>\n      <td>50.000000</td>\n      <td>50.000000</td>\n    </tr>\n    <tr>\n      <th>mean</th>\n      <td>22.220020</td>\n      <td>49.919860</td>\n    </tr>\n    <tr>\n      <th>std</th>\n      <td>13.986112</td>\n      <td>20.925594</td>\n    </tr>\n    <tr>\n      <th>min</th>\n      <td>2.723000</td>\n      <td>14.731000</td>\n    </tr>\n    <tr>\n      <th>25%</th>\n      <td>8.570500</td>\n      <td>32.125000</td>\n    </tr>\n    <tr>\n      <th>50%</th>\n      <td>21.688000</td>\n      <td>47.830500</td>\n    </tr>\n    <tr>\n      <th>75%</th>\n      <td>32.257500</td>\n      <td>65.069750</td>\n    </tr>\n    <tr>\n      <th>max</th>\n      <td>48.011000</td>\n      <td>94.945000</td>\n    </tr>\n  </tbody>\n</table>\n</div>"
     },
     "execution_count": 3,
     "metadata": {},
     "output_type": "execute_result"
    }
   ],
   "source": [
    "regression_dataset.describe()"
   ],
   "metadata": {
    "collapsed": false,
    "pycharm": {
     "name": "#%%\n"
    }
   }
  },
  {
   "cell_type": "code",
   "execution_count": 4,
   "outputs": [
    {
     "name": "stdout",
     "output_type": "stream",
     "text": [
      "<class 'pandas.core.frame.DataFrame'>\n",
      "RangeIndex: 50 entries, 0 to 49\n",
      "Data columns (total 2 columns):\n",
      " #   Column         Non-Null Count  Dtype  \n",
      "---  ------         --------------  -----  \n",
      " 0   revision_time  50 non-null     float64\n",
      " 1   exam_score     50 non-null     float64\n",
      "dtypes: float64(2)\n",
      "memory usage: 928.0 bytes\n"
     ]
    }
   ],
   "source": [
    "regression_dataset.info()\n"
   ],
   "metadata": {
    "collapsed": false,
    "pycharm": {
     "name": "#%%\n"
    }
   }
  },
  {
   "cell_type": "code",
   "execution_count": 5,
   "outputs": [],
   "source": [
    "model_x = regression_dataset['revision_time']\n",
    "model_y = regression_dataset['exam_score']\n",
    "\n",
    "# x_train, x_test, y_train, y_test = train_test_split(model_x, model_y, train_size=0.75, test_size=0.25, random_state=0)\n",
    "\n",
    "x_train = np.array([[1,x] for x in model_x])\n",
    "# x_test = np.array([[1,x] for x in x_test])\n",
    "\n",
    "y_train = np.array(model_y)"
   ],
   "metadata": {
    "collapsed": false,
    "pycharm": {
     "name": "#%%\n"
    }
   }
  },
  {
   "cell_type": "code",
   "execution_count": 6,
   "outputs": [
    {
     "name": "stdout",
     "output_type": "stream",
     "text": [
      "Training accuracy: 0.928\n"
     ]
    }
   ],
   "source": [
    "lm = LinearRegression(fit_intercept=False)\n",
    "lm.fit(x_train, y_train)\n",
    "print('Training accuracy: {:.3f}'.format(lm.score(x_train, y_train)))"
   ],
   "metadata": {
    "collapsed": false,
    "pycharm": {
     "name": "#%%\n"
    }
   }
  },
  {
   "cell_type": "code",
   "execution_count": 7,
   "outputs": [],
   "source": [
    "# print('Testing accuracy by using score function: {:.3f}'.format(lm.score(x_test, y_test)))\n",
    "# print('Testing accuracy by using r2_score meric: {:.3f}'.format(r2_score(y_test, lm.predict(x_test))))"
   ],
   "metadata": {
    "collapsed": false,
    "pycharm": {
     "name": "#%%\n"
    }
   }
  },
  {
   "cell_type": "code",
   "execution_count": 8,
   "outputs": [
    {
     "data": {
      "text/plain": "array([17.89768026,  1.44114091])"
     },
     "execution_count": 8,
     "metadata": {},
     "output_type": "execute_result"
    }
   ],
   "source": [
    "lm.coef_"
   ],
   "metadata": {
    "collapsed": false,
    "pycharm": {
     "name": "#%%\n"
    }
   }
  },
  {
   "cell_type": "code",
   "execution_count": 9,
   "outputs": [],
   "source": [
    "prediction_y = lm.predict(np.array([[1,x] for x in model_x]))"
   ],
   "metadata": {
    "collapsed": false,
    "pycharm": {
     "name": "#%%\n"
    }
   }
  },
  {
   "cell_type": "code",
   "execution_count": 10,
   "outputs": [
    {
     "data": {
      "text/plain": "<Figure size 432x288 with 1 Axes>",
      "image/png": "[encoded data removed]"
     },
     "metadata": {
      "needs_background": "light"
     },
     "output_type": "display_data"
    }
   ],
   "source": [
    "fig, ax = plt.subplots()\n",
    "ax.scatter(model_x, model_y)\n",
    "ax.plot([model_x.min(),model_x.max()], [prediction_y.min(), prediction_y.max()], color='tab:orange', label='fitted linear model')\n",
    "ax.legend()\n",
    "plt.title('Scatter plot for data and fitted linear model line')\n",
    "ax.set_xlabel('revision_time')\n",
    "ax.set_ylabel('exam_score')\n",
    "fig.savefig('fitted_linear_model.jpg')\n"
   ],
   "metadata": {
    "collapsed": false,
    "pycharm": {
     "name": "#%%\n"
    }
   }
  },
  {
   "cell_type": "code",
   "execution_count": 13,
   "outputs": [
    {
     "data": {
      "text/plain": "array([[17.89768026,  1.44114091]])"
     },
     "execution_count": 13,
     "metadata": {},
     "output_type": "execute_result"
    }
   ],
   "source": [
    "pseudo_inverse = np.linalg.inv(np.dot(x_train.T,x_train)),\n",
    "pseudo_inverse = np.dot(pseudo_inverse, x_train.T)\n",
    "phi_w = np.dot(pseudo_inverse, y_train)\n",
    "phi_w"
   ],
   "metadata": {
    "collapsed": false,
    "pycharm": {
     "name": "#%%\n"
    }
   }
  },
  {
   "cell_type": "code",
   "execution_count": 41,
   "outputs": [],
   "source": [
    "def close_form_prediction(phi_w, x):\n",
    "    return np.dot(x, phi_w.reshape((2,1)))\n",
    "\n",
    "def calculate_std(prediction_y, true_y):\n",
    "    diff = prediction_y - true_y\n",
    "    diff = diff ** 2\n",
    "    sum_of_diff = np.sum(diff)\n",
    "    return np.sqrt(sum_of_diff / len(prediction_y))"
   ],
   "metadata": {
    "collapsed": false,
    "pycharm": {
     "name": "#%%\n"
    }
   }
  },
  {
   "cell_type": "code",
   "execution_count": 50,
   "outputs": [],
   "source": [
    "prediction_y_close_form = close_form_prediction(phi_w,x_train)\n",
    "prediction_y_close_form = prediction_y_close_form.reshape((50))"
   ],
   "metadata": {
    "collapsed": false,
    "pycharm": {
     "name": "#%%\n"
    }
   }
  },
  {
   "cell_type": "code",
   "execution_count": 27,
   "outputs": [
    {
     "data": {
      "text/plain": "array([21.82190694, 21.99628499, 22.65776867, 23.06849383, 23.73430093,\n       23.77753515, 26.07471376, 26.63099415, 27.04460159, 27.72482009,\n       28.12689841, 28.72785416, 29.93985366, 31.17635256, 32.8336646 ,\n       33.04407117, 35.3383675 , 36.90200538, 41.95320425, 42.36392941,\n       44.31379306, 46.14260086, 47.1831046 , 48.56515873, 48.99461872,\n       49.31166972, 49.67195494, 53.85270471, 54.13805061, 56.08070855,\n       56.13835418, 59.23968941, 59.77002927, 62.63501739, 64.26783003,\n       64.30674084, 64.33988708, 64.400415  , 65.03884042, 65.29104007,\n       67.60118895, 68.17764531, 71.65079489, 76.80431477, 77.34330147,\n       83.05598402, 83.32115394, 85.52033496, 86.81015607, 87.08829627])"
     },
     "execution_count": 27,
     "metadata": {},
     "output_type": "execute_result"
    }
   ],
   "source": [
    "lm.predict(x_train)"
   ],
   "metadata": {
    "collapsed": false,
    "pycharm": {
     "name": "#%%\n"
    }
   }
  },
  {
   "cell_type": "code",
   "execution_count": 51,
   "outputs": [
    {
     "data": {
      "text/plain": "5.5664596122258265"
     },
     "execution_count": 51,
     "metadata": {},
     "output_type": "execute_result"
    }
   ],
   "source": [
    "calculate_std(prediction_y_close_form, y_train)"
   ],
   "metadata": {
    "collapsed": false,
    "pycharm": {
     "name": "#%%\n"
    }
   }
  },
  {
   "cell_type": "code",
   "execution_count": 52,
   "outputs": [
    {
     "data": {
      "text/plain": "5.566459612225826"
     },
     "execution_count": 52,
     "metadata": {},
     "output_type": "execute_result"
    }
   ],
   "source": [
    "calculate_std(lm.predict(x_train), y_train)"
   ],
   "metadata": {
    "collapsed": false,
    "pycharm": {
     "name": "#%%\n"
    }
   }
  }
 ],
 "metadata": {
  "kernelspec": {
   "name": "pycharm-45500138",
   "language": "python",
   "display_name": "PyCharm (UoE-IAML-Coursework)"
  },
  "language_info": {
   "codemirror_mode": {
    "name": "ipython",
    "version": 2
   },
   "file_extension": ".py",
   "mimetype": "text/x-python",
   "name": "python",
   "nbconvert_exporter": "python",
   "pygments_lexer": "ipython2",
   "version": "2.7.6"
  }
 },
 "nbformat": 4,
 "nbformat_minor": 0
}